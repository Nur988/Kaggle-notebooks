{
 "cells": [
  {
   "cell_type": "code",
   "execution_count": 1,
   "id": "eeb1d9aa",
   "metadata": {
    "_cell_guid": "b1076dfc-b9ad-4769-8c92-a6c4dae69d19",
    "_uuid": "8f2839f25d086af736a60e9eeb907d3b93b6e0e5",
    "execution": {
     "iopub.execute_input": "2022-03-13T11:56:39.582185Z",
     "iopub.status.busy": "2022-03-13T11:56:39.581542Z",
     "iopub.status.idle": "2022-03-13T11:56:41.990815Z",
     "shell.execute_reply": "2022-03-13T11:56:41.990097Z",
     "shell.execute_reply.started": "2022-03-13T11:55:36.857285Z"
    },
    "papermill": {
     "duration": 2.442032,
     "end_time": "2022-03-13T11:56:41.991004",
     "exception": false,
     "start_time": "2022-03-13T11:56:39.548972",
     "status": "completed"
    },
    "tags": []
   },
   "outputs": [],
   "source": [
    "import numpy as np\n",
    "import pandas as pd\n",
    "import seaborn as sns\n",
    "import matplotlib.pyplot as plt\n",
    "from sklearn.preprocessing import LabelEncoder\n",
    "from sklearn.model_selection import train_test_split\n",
    "from sklearn.preprocessing import MinMaxScaler  \n",
    "import torch\n",
    "import torch.nn as nn\n",
    "import torch.optim as optim\n",
    "from torch.utils.data import Dataset, DataLoader,TensorDataset\n",
    "import torch.nn.functional as F\n",
    "from tqdm.notebook import tqdm\n",
    "from xgboost import XGBRegressor\n",
    "from sklearn.model_selection import RepeatedKFold,cross_val_score"
   ]
  },
  {
   "cell_type": "code",
   "execution_count": 2,
   "id": "40152bd9",
   "metadata": {
    "execution": {
     "iopub.execute_input": "2022-03-13T11:56:42.036414Z",
     "iopub.status.busy": "2022-03-13T11:56:42.035756Z",
     "iopub.status.idle": "2022-03-13T11:56:42.853838Z",
     "shell.execute_reply": "2022-03-13T11:56:42.854332Z",
     "shell.execute_reply.started": "2022-03-13T11:55:36.865165Z"
    },
    "papermill": {
     "duration": 0.841086,
     "end_time": "2022-03-13T11:56:42.854518",
     "exception": false,
     "start_time": "2022-03-13T11:56:42.013432",
     "status": "completed"
    },
    "tags": []
   },
   "outputs": [
    {
     "data": {
      "text/html": [
       "<div>\n",
       "<style scoped>\n",
       "    .dataframe tbody tr th:only-of-type {\n",
       "        vertical-align: middle;\n",
       "    }\n",
       "\n",
       "    .dataframe tbody tr th {\n",
       "        vertical-align: top;\n",
       "    }\n",
       "\n",
       "    .dataframe thead th {\n",
       "        text-align: right;\n",
       "    }\n",
       "</style>\n",
       "<table border=\"1\" class=\"dataframe\">\n",
       "  <thead>\n",
       "    <tr style=\"text-align: right;\">\n",
       "      <th></th>\n",
       "      <th>row_id</th>\n",
       "      <th>time</th>\n",
       "      <th>x</th>\n",
       "      <th>y</th>\n",
       "      <th>direction</th>\n",
       "      <th>congestion</th>\n",
       "    </tr>\n",
       "  </thead>\n",
       "  <tbody>\n",
       "    <tr>\n",
       "      <th>0</th>\n",
       "      <td>0</td>\n",
       "      <td>1991-04-01 00:00:00</td>\n",
       "      <td>0</td>\n",
       "      <td>0</td>\n",
       "      <td>EB</td>\n",
       "      <td>70</td>\n",
       "    </tr>\n",
       "    <tr>\n",
       "      <th>1</th>\n",
       "      <td>1</td>\n",
       "      <td>1991-04-01 00:00:00</td>\n",
       "      <td>0</td>\n",
       "      <td>0</td>\n",
       "      <td>NB</td>\n",
       "      <td>49</td>\n",
       "    </tr>\n",
       "    <tr>\n",
       "      <th>2</th>\n",
       "      <td>2</td>\n",
       "      <td>1991-04-01 00:00:00</td>\n",
       "      <td>0</td>\n",
       "      <td>0</td>\n",
       "      <td>SB</td>\n",
       "      <td>24</td>\n",
       "    </tr>\n",
       "    <tr>\n",
       "      <th>3</th>\n",
       "      <td>3</td>\n",
       "      <td>1991-04-01 00:00:00</td>\n",
       "      <td>0</td>\n",
       "      <td>1</td>\n",
       "      <td>EB</td>\n",
       "      <td>18</td>\n",
       "    </tr>\n",
       "    <tr>\n",
       "      <th>4</th>\n",
       "      <td>4</td>\n",
       "      <td>1991-04-01 00:00:00</td>\n",
       "      <td>0</td>\n",
       "      <td>1</td>\n",
       "      <td>NB</td>\n",
       "      <td>60</td>\n",
       "    </tr>\n",
       "    <tr>\n",
       "      <th>5</th>\n",
       "      <td>5</td>\n",
       "      <td>1991-04-01 00:00:00</td>\n",
       "      <td>0</td>\n",
       "      <td>1</td>\n",
       "      <td>SB</td>\n",
       "      <td>58</td>\n",
       "    </tr>\n",
       "    <tr>\n",
       "      <th>6</th>\n",
       "      <td>6</td>\n",
       "      <td>1991-04-01 00:00:00</td>\n",
       "      <td>0</td>\n",
       "      <td>1</td>\n",
       "      <td>WB</td>\n",
       "      <td>26</td>\n",
       "    </tr>\n",
       "    <tr>\n",
       "      <th>7</th>\n",
       "      <td>7</td>\n",
       "      <td>1991-04-01 00:00:00</td>\n",
       "      <td>0</td>\n",
       "      <td>2</td>\n",
       "      <td>EB</td>\n",
       "      <td>31</td>\n",
       "    </tr>\n",
       "    <tr>\n",
       "      <th>8</th>\n",
       "      <td>8</td>\n",
       "      <td>1991-04-01 00:00:00</td>\n",
       "      <td>0</td>\n",
       "      <td>2</td>\n",
       "      <td>NB</td>\n",
       "      <td>49</td>\n",
       "    </tr>\n",
       "    <tr>\n",
       "      <th>9</th>\n",
       "      <td>9</td>\n",
       "      <td>1991-04-01 00:00:00</td>\n",
       "      <td>0</td>\n",
       "      <td>2</td>\n",
       "      <td>SB</td>\n",
       "      <td>46</td>\n",
       "    </tr>\n",
       "    <tr>\n",
       "      <th>10</th>\n",
       "      <td>10</td>\n",
       "      <td>1991-04-01 00:00:00</td>\n",
       "      <td>0</td>\n",
       "      <td>2</td>\n",
       "      <td>WB</td>\n",
       "      <td>29</td>\n",
       "    </tr>\n",
       "    <tr>\n",
       "      <th>11</th>\n",
       "      <td>11</td>\n",
       "      <td>1991-04-01 00:00:00</td>\n",
       "      <td>0</td>\n",
       "      <td>3</td>\n",
       "      <td>EB</td>\n",
       "      <td>18</td>\n",
       "    </tr>\n",
       "    <tr>\n",
       "      <th>12</th>\n",
       "      <td>12</td>\n",
       "      <td>1991-04-01 00:00:00</td>\n",
       "      <td>0</td>\n",
       "      <td>3</td>\n",
       "      <td>NB</td>\n",
       "      <td>16</td>\n",
       "    </tr>\n",
       "    <tr>\n",
       "      <th>13</th>\n",
       "      <td>13</td>\n",
       "      <td>1991-04-01 00:00:00</td>\n",
       "      <td>0</td>\n",
       "      <td>3</td>\n",
       "      <td>NE</td>\n",
       "      <td>21</td>\n",
       "    </tr>\n",
       "    <tr>\n",
       "      <th>14</th>\n",
       "      <td>14</td>\n",
       "      <td>1991-04-01 00:00:00</td>\n",
       "      <td>0</td>\n",
       "      <td>3</td>\n",
       "      <td>SB</td>\n",
       "      <td>49</td>\n",
       "    </tr>\n",
       "    <tr>\n",
       "      <th>15</th>\n",
       "      <td>15</td>\n",
       "      <td>1991-04-01 00:00:00</td>\n",
       "      <td>0</td>\n",
       "      <td>3</td>\n",
       "      <td>SW</td>\n",
       "      <td>47</td>\n",
       "    </tr>\n",
       "    <tr>\n",
       "      <th>16</th>\n",
       "      <td>16</td>\n",
       "      <td>1991-04-01 00:00:00</td>\n",
       "      <td>0</td>\n",
       "      <td>3</td>\n",
       "      <td>WB</td>\n",
       "      <td>51</td>\n",
       "    </tr>\n",
       "    <tr>\n",
       "      <th>17</th>\n",
       "      <td>17</td>\n",
       "      <td>1991-04-01 00:00:00</td>\n",
       "      <td>1</td>\n",
       "      <td>0</td>\n",
       "      <td>EB</td>\n",
       "      <td>74</td>\n",
       "    </tr>\n",
       "    <tr>\n",
       "      <th>18</th>\n",
       "      <td>18</td>\n",
       "      <td>1991-04-01 00:00:00</td>\n",
       "      <td>1</td>\n",
       "      <td>0</td>\n",
       "      <td>NB</td>\n",
       "      <td>74</td>\n",
       "    </tr>\n",
       "    <tr>\n",
       "      <th>19</th>\n",
       "      <td>19</td>\n",
       "      <td>1991-04-01 00:00:00</td>\n",
       "      <td>1</td>\n",
       "      <td>0</td>\n",
       "      <td>NE</td>\n",
       "      <td>43</td>\n",
       "    </tr>\n",
       "  </tbody>\n",
       "</table>\n",
       "</div>"
      ],
      "text/plain": [
       "    row_id                 time  x  y direction  congestion\n",
       "0        0  1991-04-01 00:00:00  0  0        EB          70\n",
       "1        1  1991-04-01 00:00:00  0  0        NB          49\n",
       "2        2  1991-04-01 00:00:00  0  0        SB          24\n",
       "3        3  1991-04-01 00:00:00  0  1        EB          18\n",
       "4        4  1991-04-01 00:00:00  0  1        NB          60\n",
       "5        5  1991-04-01 00:00:00  0  1        SB          58\n",
       "6        6  1991-04-01 00:00:00  0  1        WB          26\n",
       "7        7  1991-04-01 00:00:00  0  2        EB          31\n",
       "8        8  1991-04-01 00:00:00  0  2        NB          49\n",
       "9        9  1991-04-01 00:00:00  0  2        SB          46\n",
       "10      10  1991-04-01 00:00:00  0  2        WB          29\n",
       "11      11  1991-04-01 00:00:00  0  3        EB          18\n",
       "12      12  1991-04-01 00:00:00  0  3        NB          16\n",
       "13      13  1991-04-01 00:00:00  0  3        NE          21\n",
       "14      14  1991-04-01 00:00:00  0  3        SB          49\n",
       "15      15  1991-04-01 00:00:00  0  3        SW          47\n",
       "16      16  1991-04-01 00:00:00  0  3        WB          51\n",
       "17      17  1991-04-01 00:00:00  1  0        EB          74\n",
       "18      18  1991-04-01 00:00:00  1  0        NB          74\n",
       "19      19  1991-04-01 00:00:00  1  0        NE          43"
      ]
     },
     "execution_count": 2,
     "metadata": {},
     "output_type": "execute_result"
    }
   ],
   "source": [
    "train_df=pd.read_csv('../input/tabular-playground-series-mar-2022/train.csv')\n",
    "train_df.head(20)"
   ]
  },
  {
   "cell_type": "code",
   "execution_count": 3,
   "id": "3362809e",
   "metadata": {
    "execution": {
     "iopub.execute_input": "2022-03-13T11:56:42.900057Z",
     "iopub.status.busy": "2022-03-13T11:56:42.899067Z",
     "iopub.status.idle": "2022-03-13T11:56:43.117501Z",
     "shell.execute_reply": "2022-03-13T11:56:43.118236Z",
     "shell.execute_reply.started": "2022-03-13T11:55:37.246645Z"
    },
    "papermill": {
     "duration": 0.242648,
     "end_time": "2022-03-13T11:56:43.118486",
     "exception": false,
     "start_time": "2022-03-13T11:56:42.875838",
     "status": "completed"
    },
    "tags": []
   },
   "outputs": [
    {
     "name": "stdout",
     "output_type": "stream",
     "text": [
      "<class 'pandas.core.frame.DataFrame'>\n",
      "RangeIndex: 848835 entries, 0 to 848834\n",
      "Data columns (total 6 columns):\n",
      " #   Column      Non-Null Count   Dtype \n",
      "---  ------      --------------   ----- \n",
      " 0   row_id      848835 non-null  int64 \n",
      " 1   time        848835 non-null  object\n",
      " 2   x           848835 non-null  int64 \n",
      " 3   y           848835 non-null  int64 \n",
      " 4   direction   848835 non-null  object\n",
      " 5   congestion  848835 non-null  int64 \n",
      "dtypes: int64(4), object(2)\n",
      "memory usage: 38.9+ MB\n"
     ]
    }
   ],
   "source": [
    "train_df.info()"
   ]
  },
  {
   "cell_type": "code",
   "execution_count": null,
   "id": "bc4be827",
   "metadata": {
    "papermill": {
     "duration": 0.020229,
     "end_time": "2022-03-13T11:56:43.160428",
     "exception": false,
     "start_time": "2022-03-13T11:56:43.140199",
     "status": "completed"
    },
    "tags": []
   },
   "outputs": [],
   "source": []
  },
  {
   "cell_type": "code",
   "execution_count": 4,
   "id": "b7840ded",
   "metadata": {
    "execution": {
     "iopub.execute_input": "2022-03-13T11:56:43.213681Z",
     "iopub.status.busy": "2022-03-13T11:56:43.212684Z",
     "iopub.status.idle": "2022-03-13T11:56:43.216764Z",
     "shell.execute_reply": "2022-03-13T11:56:43.216238Z",
     "shell.execute_reply.started": "2022-03-13T11:55:37.333545Z"
    },
    "papermill": {
     "duration": 0.034829,
     "end_time": "2022-03-13T11:56:43.216899",
     "exception": false,
     "start_time": "2022-03-13T11:56:43.182070",
     "status": "completed"
    },
    "tags": []
   },
   "outputs": [
    {
     "data": {
      "text/html": [
       "<div>\n",
       "<style scoped>\n",
       "    .dataframe tbody tr th:only-of-type {\n",
       "        vertical-align: middle;\n",
       "    }\n",
       "\n",
       "    .dataframe tbody tr th {\n",
       "        vertical-align: top;\n",
       "    }\n",
       "\n",
       "    .dataframe thead th {\n",
       "        text-align: right;\n",
       "    }\n",
       "</style>\n",
       "<table border=\"1\" class=\"dataframe\">\n",
       "  <thead>\n",
       "    <tr style=\"text-align: right;\">\n",
       "      <th></th>\n",
       "      <th>row_id</th>\n",
       "      <th>time</th>\n",
       "      <th>x</th>\n",
       "      <th>y</th>\n",
       "      <th>direction</th>\n",
       "      <th>congestion</th>\n",
       "    </tr>\n",
       "  </thead>\n",
       "  <tbody>\n",
       "    <tr>\n",
       "      <th>0</th>\n",
       "      <td>0</td>\n",
       "      <td>1991-04-01 00:00:00</td>\n",
       "      <td>0</td>\n",
       "      <td>0</td>\n",
       "      <td>EB</td>\n",
       "      <td>70</td>\n",
       "    </tr>\n",
       "    <tr>\n",
       "      <th>1</th>\n",
       "      <td>1</td>\n",
       "      <td>1991-04-01 00:00:00</td>\n",
       "      <td>0</td>\n",
       "      <td>0</td>\n",
       "      <td>NB</td>\n",
       "      <td>49</td>\n",
       "    </tr>\n",
       "    <tr>\n",
       "      <th>2</th>\n",
       "      <td>2</td>\n",
       "      <td>1991-04-01 00:00:00</td>\n",
       "      <td>0</td>\n",
       "      <td>0</td>\n",
       "      <td>SB</td>\n",
       "      <td>24</td>\n",
       "    </tr>\n",
       "    <tr>\n",
       "      <th>3</th>\n",
       "      <td>3</td>\n",
       "      <td>1991-04-01 00:00:00</td>\n",
       "      <td>0</td>\n",
       "      <td>1</td>\n",
       "      <td>EB</td>\n",
       "      <td>18</td>\n",
       "    </tr>\n",
       "    <tr>\n",
       "      <th>4</th>\n",
       "      <td>4</td>\n",
       "      <td>1991-04-01 00:00:00</td>\n",
       "      <td>0</td>\n",
       "      <td>1</td>\n",
       "      <td>NB</td>\n",
       "      <td>60</td>\n",
       "    </tr>\n",
       "  </tbody>\n",
       "</table>\n",
       "</div>"
      ],
      "text/plain": [
       "   row_id                 time  x  y direction  congestion\n",
       "0       0  1991-04-01 00:00:00  0  0        EB          70\n",
       "1       1  1991-04-01 00:00:00  0  0        NB          49\n",
       "2       2  1991-04-01 00:00:00  0  0        SB          24\n",
       "3       3  1991-04-01 00:00:00  0  1        EB          18\n",
       "4       4  1991-04-01 00:00:00  0  1        NB          60"
      ]
     },
     "execution_count": 4,
     "metadata": {},
     "output_type": "execute_result"
    }
   ],
   "source": [
    "train_df.head()"
   ]
  },
  {
   "cell_type": "code",
   "execution_count": 5,
   "id": "53677a74",
   "metadata": {
    "execution": {
     "iopub.execute_input": "2022-03-13T11:56:43.265472Z",
     "iopub.status.busy": "2022-03-13T11:56:43.264631Z",
     "iopub.status.idle": "2022-03-13T11:56:43.267557Z",
     "shell.execute_reply": "2022-03-13T11:56:43.266916Z",
     "shell.execute_reply.started": "2022-03-13T11:55:37.347868Z"
    },
    "papermill": {
     "duration": 0.02938,
     "end_time": "2022-03-13T11:56:43.267698",
     "exception": false,
     "start_time": "2022-03-13T11:56:43.238318",
     "status": "completed"
    },
    "tags": []
   },
   "outputs": [],
   "source": [
    "def encode(x):\n",
    "    if x=='EB':\n",
    "        return 1\n",
    "    elif x=='WB':\n",
    "        return 2\n",
    "    elif x=='SB':\n",
    "        return 3\n",
    "    else:\n",
    "        return 4"
   ]
  },
  {
   "cell_type": "code",
   "execution_count": 6,
   "id": "436e796c",
   "metadata": {
    "execution": {
     "iopub.execute_input": "2022-03-13T11:56:43.316879Z",
     "iopub.status.busy": "2022-03-13T11:56:43.312607Z",
     "iopub.status.idle": "2022-03-13T11:56:43.319706Z",
     "shell.execute_reply": "2022-03-13T11:56:43.319035Z",
     "shell.execute_reply.started": "2022-03-13T11:55:37.357111Z"
    },
    "papermill": {
     "duration": 0.030967,
     "end_time": "2022-03-13T11:56:43.319844",
     "exception": false,
     "start_time": "2022-03-13T11:56:43.288877",
     "status": "completed"
    },
    "tags": []
   },
   "outputs": [],
   "source": [
    "def preprocess(df):\n",
    "    df['time']=pd.to_datetime(df['time'])\n",
    "    df['day']=df['time'].dt.day\n",
    "    df['month']=df['time'].dt.month\n",
    "    df['minute']=df['time'].dt.minute\n",
    "    df['week']=df['time'].dt.week\n",
    "    df['direction']=df['direction'].apply(encode)\n",
    "    df.drop(['time','row_id'],axis=1,inplace=True)\n",
    "    return df\n",
    "    "
   ]
  },
  {
   "cell_type": "code",
   "execution_count": 7,
   "id": "f87808c4",
   "metadata": {
    "execution": {
     "iopub.execute_input": "2022-03-13T11:56:43.416823Z",
     "iopub.status.busy": "2022-03-13T11:56:43.416062Z",
     "iopub.status.idle": "2022-03-13T11:56:44.740012Z",
     "shell.execute_reply": "2022-03-13T11:56:44.740589Z",
     "shell.execute_reply.started": "2022-03-13T11:55:37.368420Z"
    },
    "papermill": {
     "duration": 1.399433,
     "end_time": "2022-03-13T11:56:44.740776",
     "exception": false,
     "start_time": "2022-03-13T11:56:43.341343",
     "status": "completed"
    },
    "tags": []
   },
   "outputs": [
    {
     "name": "stderr",
     "output_type": "stream",
     "text": [
      "/opt/conda/lib/python3.7/site-packages/ipykernel_launcher.py:6: FutureWarning: Series.dt.weekofyear and Series.dt.week have been deprecated.  Please use Series.dt.isocalendar().week instead.\n",
      "  \n"
     ]
    }
   ],
   "source": [
    "train_df=preprocess(train_df)"
   ]
  },
  {
   "cell_type": "code",
   "execution_count": 8,
   "id": "cc2c6441",
   "metadata": {
    "execution": {
     "iopub.execute_input": "2022-03-13T11:56:44.808510Z",
     "iopub.status.busy": "2022-03-13T11:56:44.807430Z",
     "iopub.status.idle": "2022-03-13T11:56:44.809802Z",
     "shell.execute_reply": "2022-03-13T11:56:44.810306Z",
     "shell.execute_reply.started": "2022-03-13T11:55:38.331689Z"
    },
    "papermill": {
     "duration": 0.047998,
     "end_time": "2022-03-13T11:56:44.810486",
     "exception": false,
     "start_time": "2022-03-13T11:56:44.762488",
     "status": "completed"
    },
    "tags": []
   },
   "outputs": [],
   "source": [
    "X=train_df.drop('congestion',axis=1)\n",
    "Y=train_df.congestion.values"
   ]
  },
  {
   "cell_type": "code",
   "execution_count": 9,
   "id": "68df25f4",
   "metadata": {
    "execution": {
     "iopub.execute_input": "2022-03-13T11:56:44.857836Z",
     "iopub.status.busy": "2022-03-13T11:56:44.856803Z",
     "iopub.status.idle": "2022-03-13T11:56:44.867235Z",
     "shell.execute_reply": "2022-03-13T11:56:44.867710Z",
     "shell.execute_reply.started": "2022-03-13T11:55:38.358161Z"
    },
    "papermill": {
     "duration": 0.035796,
     "end_time": "2022-03-13T11:56:44.867892",
     "exception": false,
     "start_time": "2022-03-13T11:56:44.832096",
     "status": "completed"
    },
    "tags": []
   },
   "outputs": [
    {
     "data": {
      "text/html": [
       "<div>\n",
       "<style scoped>\n",
       "    .dataframe tbody tr th:only-of-type {\n",
       "        vertical-align: middle;\n",
       "    }\n",
       "\n",
       "    .dataframe tbody tr th {\n",
       "        vertical-align: top;\n",
       "    }\n",
       "\n",
       "    .dataframe thead th {\n",
       "        text-align: right;\n",
       "    }\n",
       "</style>\n",
       "<table border=\"1\" class=\"dataframe\">\n",
       "  <thead>\n",
       "    <tr style=\"text-align: right;\">\n",
       "      <th></th>\n",
       "      <th>x</th>\n",
       "      <th>y</th>\n",
       "      <th>direction</th>\n",
       "      <th>day</th>\n",
       "      <th>month</th>\n",
       "      <th>minute</th>\n",
       "      <th>week</th>\n",
       "    </tr>\n",
       "  </thead>\n",
       "  <tbody>\n",
       "    <tr>\n",
       "      <th>0</th>\n",
       "      <td>0</td>\n",
       "      <td>0</td>\n",
       "      <td>1</td>\n",
       "      <td>1</td>\n",
       "      <td>4</td>\n",
       "      <td>0</td>\n",
       "      <td>14</td>\n",
       "    </tr>\n",
       "    <tr>\n",
       "      <th>1</th>\n",
       "      <td>0</td>\n",
       "      <td>0</td>\n",
       "      <td>4</td>\n",
       "      <td>1</td>\n",
       "      <td>4</td>\n",
       "      <td>0</td>\n",
       "      <td>14</td>\n",
       "    </tr>\n",
       "    <tr>\n",
       "      <th>2</th>\n",
       "      <td>0</td>\n",
       "      <td>0</td>\n",
       "      <td>3</td>\n",
       "      <td>1</td>\n",
       "      <td>4</td>\n",
       "      <td>0</td>\n",
       "      <td>14</td>\n",
       "    </tr>\n",
       "    <tr>\n",
       "      <th>3</th>\n",
       "      <td>0</td>\n",
       "      <td>1</td>\n",
       "      <td>1</td>\n",
       "      <td>1</td>\n",
       "      <td>4</td>\n",
       "      <td>0</td>\n",
       "      <td>14</td>\n",
       "    </tr>\n",
       "    <tr>\n",
       "      <th>4</th>\n",
       "      <td>0</td>\n",
       "      <td>1</td>\n",
       "      <td>4</td>\n",
       "      <td>1</td>\n",
       "      <td>4</td>\n",
       "      <td>0</td>\n",
       "      <td>14</td>\n",
       "    </tr>\n",
       "  </tbody>\n",
       "</table>\n",
       "</div>"
      ],
      "text/plain": [
       "   x  y  direction  day  month  minute  week\n",
       "0  0  0          1    1      4       0    14\n",
       "1  0  0          4    1      4       0    14\n",
       "2  0  0          3    1      4       0    14\n",
       "3  0  1          1    1      4       0    14\n",
       "4  0  1          4    1      4       0    14"
      ]
     },
     "execution_count": 9,
     "metadata": {},
     "output_type": "execute_result"
    }
   ],
   "source": [
    "X.head()"
   ]
  },
  {
   "cell_type": "code",
   "execution_count": 10,
   "id": "5c2be805",
   "metadata": {
    "execution": {
     "iopub.execute_input": "2022-03-13T11:56:44.915892Z",
     "iopub.status.busy": "2022-03-13T11:56:44.914902Z",
     "iopub.status.idle": "2022-03-13T11:56:44.918998Z",
     "shell.execute_reply": "2022-03-13T11:56:44.919503Z",
     "shell.execute_reply.started": "2022-03-13T11:55:38.377172Z"
    },
    "papermill": {
     "duration": 0.029816,
     "end_time": "2022-03-13T11:56:44.919683",
     "exception": false,
     "start_time": "2022-03-13T11:56:44.889867",
     "status": "completed"
    },
    "tags": []
   },
   "outputs": [],
   "source": [
    "model = XGBRegressor(n_estimators=100, max_depth=7, eta=0.1, subsample=0.7, colsample_bytree=0.8)"
   ]
  },
  {
   "cell_type": "code",
   "execution_count": 11,
   "id": "16b0dd04",
   "metadata": {
    "execution": {
     "iopub.execute_input": "2022-03-13T11:56:44.969078Z",
     "iopub.status.busy": "2022-03-13T11:56:44.968445Z",
     "iopub.status.idle": "2022-03-13T11:56:44.971521Z",
     "shell.execute_reply": "2022-03-13T11:56:44.972023Z",
     "shell.execute_reply.started": "2022-03-13T11:55:38.384535Z"
    },
    "papermill": {
     "duration": 0.028511,
     "end_time": "2022-03-13T11:56:44.972212",
     "exception": false,
     "start_time": "2022-03-13T11:56:44.943701",
     "status": "completed"
    },
    "tags": []
   },
   "outputs": [],
   "source": [
    "# cv=RepeatedKFold(n_splits=5,n_repeats=3,random_state=1)\n",
    "# scores = cross_val_score(model, X, Y, scoring='neg_mean_absolute_error', cv=cv, n_jobs=-1)\n",
    "# scores=absolute(scores)"
   ]
  },
  {
   "cell_type": "code",
   "execution_count": 12,
   "id": "42ae17a7",
   "metadata": {
    "execution": {
     "iopub.execute_input": "2022-03-13T11:56:45.022165Z",
     "iopub.status.busy": "2022-03-13T11:56:45.021486Z",
     "iopub.status.idle": "2022-03-13T11:57:14.959189Z",
     "shell.execute_reply": "2022-03-13T11:57:14.959835Z",
     "shell.execute_reply.started": "2022-03-13T11:55:38.394206Z"
    },
    "papermill": {
     "duration": 29.964052,
     "end_time": "2022-03-13T11:57:14.960038",
     "exception": false,
     "start_time": "2022-03-13T11:56:44.995986",
     "status": "completed"
    },
    "tags": []
   },
   "outputs": [
    {
     "data": {
      "text/plain": [
       "XGBRegressor(base_score=0.5, booster='gbtree', colsample_bylevel=1,\n",
       "             colsample_bynode=1, colsample_bytree=0.8, enable_categorical=False,\n",
       "             eta=0.1, gamma=0, gpu_id=-1, importance_type=None,\n",
       "             interaction_constraints='', learning_rate=0.100000001,\n",
       "             max_delta_step=0, max_depth=7, min_child_weight=1, missing=nan,\n",
       "             monotone_constraints='()', n_estimators=100, n_jobs=4,\n",
       "             num_parallel_tree=1, predictor='auto', random_state=0, reg_alpha=0,\n",
       "             reg_lambda=1, scale_pos_weight=1, subsample=0.7,\n",
       "             tree_method='exact', validate_parameters=1, verbosity=None)"
      ]
     },
     "execution_count": 12,
     "metadata": {},
     "output_type": "execute_result"
    }
   ],
   "source": [
    "model.fit(X,Y)"
   ]
  },
  {
   "cell_type": "code",
   "execution_count": 13,
   "id": "b0668cfc",
   "metadata": {
    "execution": {
     "iopub.execute_input": "2022-03-13T11:57:15.010900Z",
     "iopub.status.busy": "2022-03-13T11:57:15.009911Z",
     "iopub.status.idle": "2022-03-13T11:57:15.013928Z",
     "shell.execute_reply": "2022-03-13T11:57:15.014426Z",
     "shell.execute_reply.started": "2022-03-13T11:56:07.587813Z"
    },
    "papermill": {
     "duration": 0.031673,
     "end_time": "2022-03-13T11:57:15.014606",
     "exception": false,
     "start_time": "2022-03-13T11:57:14.982933",
     "status": "completed"
    },
    "tags": []
   },
   "outputs": [],
   "source": [
    "def mae(x,y):\n",
    "    val=abs(x-y)\n",
    "    return val.mean()"
   ]
  },
  {
   "cell_type": "code",
   "execution_count": 14,
   "id": "fbee2332",
   "metadata": {
    "execution": {
     "iopub.execute_input": "2022-03-13T11:57:15.065642Z",
     "iopub.status.busy": "2022-03-13T11:57:15.064854Z",
     "iopub.status.idle": "2022-03-13T11:57:15.076964Z",
     "shell.execute_reply": "2022-03-13T11:57:15.077571Z",
     "shell.execute_reply.started": "2022-03-13T11:56:07.592976Z"
    },
    "papermill": {
     "duration": 0.040514,
     "end_time": "2022-03-13T11:57:15.077755",
     "exception": false,
     "start_time": "2022-03-13T11:57:15.037241",
     "status": "completed"
    },
    "tags": []
   },
   "outputs": [],
   "source": [
    "test_df=pd.read_csv('../input/tabular-playground-series-mar-2022/test.csv')"
   ]
  },
  {
   "cell_type": "code",
   "execution_count": 15,
   "id": "01524065",
   "metadata": {
    "execution": {
     "iopub.execute_input": "2022-03-13T11:57:15.128488Z",
     "iopub.status.busy": "2022-03-13T11:57:15.127442Z",
     "iopub.status.idle": "2022-03-13T11:57:15.139059Z",
     "shell.execute_reply": "2022-03-13T11:57:15.138511Z",
     "shell.execute_reply.started": "2022-03-13T11:56:07.610670Z"
    },
    "papermill": {
     "duration": 0.038481,
     "end_time": "2022-03-13T11:57:15.139243",
     "exception": false,
     "start_time": "2022-03-13T11:57:15.100762",
     "status": "completed"
    },
    "tags": []
   },
   "outputs": [
    {
     "data": {
      "text/html": [
       "<div>\n",
       "<style scoped>\n",
       "    .dataframe tbody tr th:only-of-type {\n",
       "        vertical-align: middle;\n",
       "    }\n",
       "\n",
       "    .dataframe tbody tr th {\n",
       "        vertical-align: top;\n",
       "    }\n",
       "\n",
       "    .dataframe thead th {\n",
       "        text-align: right;\n",
       "    }\n",
       "</style>\n",
       "<table border=\"1\" class=\"dataframe\">\n",
       "  <thead>\n",
       "    <tr style=\"text-align: right;\">\n",
       "      <th></th>\n",
       "      <th>row_id</th>\n",
       "      <th>time</th>\n",
       "      <th>x</th>\n",
       "      <th>y</th>\n",
       "      <th>direction</th>\n",
       "    </tr>\n",
       "  </thead>\n",
       "  <tbody>\n",
       "    <tr>\n",
       "      <th>0</th>\n",
       "      <td>848835</td>\n",
       "      <td>1991-09-30 12:00:00</td>\n",
       "      <td>0</td>\n",
       "      <td>0</td>\n",
       "      <td>EB</td>\n",
       "    </tr>\n",
       "    <tr>\n",
       "      <th>1</th>\n",
       "      <td>848836</td>\n",
       "      <td>1991-09-30 12:00:00</td>\n",
       "      <td>0</td>\n",
       "      <td>0</td>\n",
       "      <td>NB</td>\n",
       "    </tr>\n",
       "    <tr>\n",
       "      <th>2</th>\n",
       "      <td>848837</td>\n",
       "      <td>1991-09-30 12:00:00</td>\n",
       "      <td>0</td>\n",
       "      <td>0</td>\n",
       "      <td>SB</td>\n",
       "    </tr>\n",
       "    <tr>\n",
       "      <th>3</th>\n",
       "      <td>848838</td>\n",
       "      <td>1991-09-30 12:00:00</td>\n",
       "      <td>0</td>\n",
       "      <td>1</td>\n",
       "      <td>EB</td>\n",
       "    </tr>\n",
       "    <tr>\n",
       "      <th>4</th>\n",
       "      <td>848839</td>\n",
       "      <td>1991-09-30 12:00:00</td>\n",
       "      <td>0</td>\n",
       "      <td>1</td>\n",
       "      <td>NB</td>\n",
       "    </tr>\n",
       "  </tbody>\n",
       "</table>\n",
       "</div>"
      ],
      "text/plain": [
       "   row_id                 time  x  y direction\n",
       "0  848835  1991-09-30 12:00:00  0  0        EB\n",
       "1  848836  1991-09-30 12:00:00  0  0        NB\n",
       "2  848837  1991-09-30 12:00:00  0  0        SB\n",
       "3  848838  1991-09-30 12:00:00  0  1        EB\n",
       "4  848839  1991-09-30 12:00:00  0  1        NB"
      ]
     },
     "execution_count": 15,
     "metadata": {},
     "output_type": "execute_result"
    }
   ],
   "source": [
    "test_df.head()"
   ]
  },
  {
   "cell_type": "code",
   "execution_count": 16,
   "id": "3412e03d",
   "metadata": {
    "execution": {
     "iopub.execute_input": "2022-03-13T11:57:15.193702Z",
     "iopub.status.busy": "2022-03-13T11:57:15.192672Z",
     "iopub.status.idle": "2022-03-13T11:57:15.213834Z",
     "shell.execute_reply": "2022-03-13T11:57:15.214388Z",
     "shell.execute_reply.started": "2022-03-13T11:56:07.623577Z"
    },
    "papermill": {
     "duration": 0.051563,
     "end_time": "2022-03-13T11:57:15.214572",
     "exception": false,
     "start_time": "2022-03-13T11:57:15.163009",
     "status": "completed"
    },
    "tags": []
   },
   "outputs": [
    {
     "name": "stderr",
     "output_type": "stream",
     "text": [
      "/opt/conda/lib/python3.7/site-packages/ipykernel_launcher.py:6: FutureWarning: Series.dt.weekofyear and Series.dt.week have been deprecated.  Please use Series.dt.isocalendar().week instead.\n",
      "  \n"
     ]
    },
    {
     "data": {
      "text/html": [
       "<div>\n",
       "<style scoped>\n",
       "    .dataframe tbody tr th:only-of-type {\n",
       "        vertical-align: middle;\n",
       "    }\n",
       "\n",
       "    .dataframe tbody tr th {\n",
       "        vertical-align: top;\n",
       "    }\n",
       "\n",
       "    .dataframe thead th {\n",
       "        text-align: right;\n",
       "    }\n",
       "</style>\n",
       "<table border=\"1\" class=\"dataframe\">\n",
       "  <thead>\n",
       "    <tr style=\"text-align: right;\">\n",
       "      <th></th>\n",
       "      <th>x</th>\n",
       "      <th>y</th>\n",
       "      <th>direction</th>\n",
       "      <th>day</th>\n",
       "      <th>month</th>\n",
       "      <th>minute</th>\n",
       "      <th>week</th>\n",
       "    </tr>\n",
       "  </thead>\n",
       "  <tbody>\n",
       "    <tr>\n",
       "      <th>0</th>\n",
       "      <td>0</td>\n",
       "      <td>0</td>\n",
       "      <td>1</td>\n",
       "      <td>30</td>\n",
       "      <td>9</td>\n",
       "      <td>0</td>\n",
       "      <td>40</td>\n",
       "    </tr>\n",
       "    <tr>\n",
       "      <th>1</th>\n",
       "      <td>0</td>\n",
       "      <td>0</td>\n",
       "      <td>4</td>\n",
       "      <td>30</td>\n",
       "      <td>9</td>\n",
       "      <td>0</td>\n",
       "      <td>40</td>\n",
       "    </tr>\n",
       "    <tr>\n",
       "      <th>2</th>\n",
       "      <td>0</td>\n",
       "      <td>0</td>\n",
       "      <td>3</td>\n",
       "      <td>30</td>\n",
       "      <td>9</td>\n",
       "      <td>0</td>\n",
       "      <td>40</td>\n",
       "    </tr>\n",
       "    <tr>\n",
       "      <th>3</th>\n",
       "      <td>0</td>\n",
       "      <td>1</td>\n",
       "      <td>1</td>\n",
       "      <td>30</td>\n",
       "      <td>9</td>\n",
       "      <td>0</td>\n",
       "      <td>40</td>\n",
       "    </tr>\n",
       "    <tr>\n",
       "      <th>4</th>\n",
       "      <td>0</td>\n",
       "      <td>1</td>\n",
       "      <td>4</td>\n",
       "      <td>30</td>\n",
       "      <td>9</td>\n",
       "      <td>0</td>\n",
       "      <td>40</td>\n",
       "    </tr>\n",
       "  </tbody>\n",
       "</table>\n",
       "</div>"
      ],
      "text/plain": [
       "   x  y  direction  day  month  minute  week\n",
       "0  0  0          1   30      9       0    40\n",
       "1  0  0          4   30      9       0    40\n",
       "2  0  0          3   30      9       0    40\n",
       "3  0  1          1   30      9       0    40\n",
       "4  0  1          4   30      9       0    40"
      ]
     },
     "execution_count": 16,
     "metadata": {},
     "output_type": "execute_result"
    }
   ],
   "source": [
    "test_df=preprocess(test_df)\n",
    "test_df.head()"
   ]
  },
  {
   "cell_type": "code",
   "execution_count": 17,
   "id": "0dd000a7",
   "metadata": {
    "execution": {
     "iopub.execute_input": "2022-03-13T11:57:15.266749Z",
     "iopub.status.busy": "2022-03-13T11:57:15.265679Z",
     "iopub.status.idle": "2022-03-13T11:57:15.287402Z",
     "shell.execute_reply": "2022-03-13T11:57:15.288028Z",
     "shell.execute_reply.started": "2022-03-13T11:56:07.650244Z"
    },
    "papermill": {
     "duration": 0.049674,
     "end_time": "2022-03-13T11:57:15.288251",
     "exception": false,
     "start_time": "2022-03-13T11:57:15.238577",
     "status": "completed"
    },
    "tags": []
   },
   "outputs": [],
   "source": [
    "prediction=model.predict(test_df)"
   ]
  },
  {
   "cell_type": "code",
   "execution_count": 18,
   "id": "4017ed7a",
   "metadata": {
    "execution": {
     "iopub.execute_input": "2022-03-13T11:57:15.345608Z",
     "iopub.status.busy": "2022-03-13T11:57:15.344851Z",
     "iopub.status.idle": "2022-03-13T11:57:15.369174Z",
     "shell.execute_reply": "2022-03-13T11:57:15.369733Z",
     "shell.execute_reply.started": "2022-03-13T11:56:07.668898Z"
    },
    "papermill": {
     "duration": 0.056295,
     "end_time": "2022-03-13T11:57:15.369918",
     "exception": false,
     "start_time": "2022-03-13T11:57:15.313623",
     "status": "completed"
    },
    "tags": []
   },
   "outputs": [
    {
     "data": {
      "text/html": [
       "<div>\n",
       "<style scoped>\n",
       "    .dataframe tbody tr th:only-of-type {\n",
       "        vertical-align: middle;\n",
       "    }\n",
       "\n",
       "    .dataframe tbody tr th {\n",
       "        vertical-align: top;\n",
       "    }\n",
       "\n",
       "    .dataframe thead th {\n",
       "        text-align: right;\n",
       "    }\n",
       "</style>\n",
       "<table border=\"1\" class=\"dataframe\">\n",
       "  <thead>\n",
       "    <tr style=\"text-align: right;\">\n",
       "      <th></th>\n",
       "      <th>row_id</th>\n",
       "      <th>congestion</th>\n",
       "    </tr>\n",
       "  </thead>\n",
       "  <tbody>\n",
       "    <tr>\n",
       "      <th>0</th>\n",
       "      <td>848835</td>\n",
       "      <td>44.160351</td>\n",
       "    </tr>\n",
       "    <tr>\n",
       "      <th>1</th>\n",
       "      <td>848836</td>\n",
       "      <td>34.015110</td>\n",
       "    </tr>\n",
       "    <tr>\n",
       "      <th>2</th>\n",
       "      <td>848837</td>\n",
       "      <td>48.497730</td>\n",
       "    </tr>\n",
       "    <tr>\n",
       "      <th>3</th>\n",
       "      <td>848838</td>\n",
       "      <td>25.341751</td>\n",
       "    </tr>\n",
       "    <tr>\n",
       "      <th>4</th>\n",
       "      <td>848839</td>\n",
       "      <td>60.981831</td>\n",
       "    </tr>\n",
       "  </tbody>\n",
       "</table>\n",
       "</div>"
      ],
      "text/plain": [
       "   row_id  congestion\n",
       "0  848835   44.160351\n",
       "1  848836   34.015110\n",
       "2  848837   48.497730\n",
       "3  848838   25.341751\n",
       "4  848839   60.981831"
      ]
     },
     "execution_count": 18,
     "metadata": {},
     "output_type": "execute_result"
    }
   ],
   "source": [
    "submission=pd.read_csv('../input/tabular-playground-series-mar-2022/sample_submission.csv')\n",
    "submission['congestion']=prediction\n",
    "submission.to_csv('submission.csv',index=False)\n",
    "submission.head()"
   ]
  }
 ],
 "metadata": {
  "kernelspec": {
   "display_name": "Python 3",
   "language": "python",
   "name": "python3"
  },
  "language_info": {
   "codemirror_mode": {
    "name": "ipython",
    "version": 3
   },
   "file_extension": ".py",
   "mimetype": "text/x-python",
   "name": "python",
   "nbconvert_exporter": "python",
   "pygments_lexer": "ipython3",
   "version": "3.7.12"
  },
  "papermill": {
   "default_parameters": {},
   "duration": 46.851946,
   "end_time": "2022-03-13T11:57:16.309032",
   "environment_variables": {},
   "exception": null,
   "input_path": "__notebook__.ipynb",
   "output_path": "__notebook__.ipynb",
   "parameters": {},
   "start_time": "2022-03-13T11:56:29.457086",
   "version": "2.3.3"
  }
 },
 "nbformat": 4,
 "nbformat_minor": 5
}
