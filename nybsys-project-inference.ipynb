{
 "cells": [
  {
   "cell_type": "code",
   "execution_count": 1,
   "id": "0ecc9bc9",
   "metadata": {
    "execution": {
     "iopub.execute_input": "2022-05-30T06:20:15.169759Z",
     "iopub.status.busy": "2022-05-30T06:20:15.164436Z",
     "iopub.status.idle": "2022-05-30T06:20:22.266098Z",
     "shell.execute_reply": "2022-05-30T06:20:22.265022Z",
     "shell.execute_reply.started": "2022-05-30T06:16:59.3458Z"
    },
    "papermill": {
     "duration": 7.129247,
     "end_time": "2022-05-30T06:20:22.266283",
     "exception": false,
     "start_time": "2022-05-30T06:20:15.137036",
     "status": "completed"
    },
    "tags": []
   },
   "outputs": [],
   "source": [
    "import os\n",
    "import torchvision\n",
    "import torch\n",
    "import pandas as pd\n",
    "import numpy as np\n",
    "import matplotlib.pyplot as plt\n",
    "from albumentations.pytorch import ToTensorV2\n",
    "import pandas as pd\n",
    "import matplotlib.pyplot as plt\n",
    "import numpy as np\n",
    "import seaborn as sns\n",
    "import sklearn\n",
    "import cv2 as cv2\n",
    "from  PIL import Image\n",
    "from PIL import ImageFile \n",
    "import torch\n",
    "from sklearn import metrics\n",
    "import torch.nn as nn\n",
    "package_paths = [\n",
    "    '../input/timmmaster',\n",
    "]\n",
    "\n",
    "import sys\n",
    "\n",
    "\n",
    "for pth in package_paths:\n",
    "    sys.path.append(pth)\n",
    "from torch.optim.lr_scheduler import OneCycleLR\n",
    "from albumentations.core.composition import Compose,OneOf\n",
    "from albumentations.pytorch import ToTensorV2\n",
    "from torch.utils.data import Dataset\n",
    "import torch.nn as nn\n",
    "import torch.nn.functional as F\n",
    "import timm"
   ]
  },
  {
   "cell_type": "code",
   "execution_count": 2,
   "id": "a4c12e35",
   "metadata": {
    "execution": {
     "iopub.execute_input": "2022-05-30T06:20:22.377767Z",
     "iopub.status.busy": "2022-05-30T06:20:22.376641Z",
     "iopub.status.idle": "2022-05-30T06:20:22.379923Z",
     "shell.execute_reply": "2022-05-30T06:20:22.379347Z",
     "shell.execute_reply.started": "2022-05-30T06:16:59.361754Z"
    },
    "papermill": {
     "duration": 0.092824,
     "end_time": "2022-05-30T06:20:22.380137",
     "exception": false,
     "start_time": "2022-05-30T06:20:22.287313",
     "status": "completed"
    },
    "tags": []
   },
   "outputs": [],
   "source": [
    "device=\"cuda\" if torch.cuda.is_available() else 'cpu'"
   ]
  },
  {
   "cell_type": "code",
   "execution_count": 3,
   "id": "f8da179c",
   "metadata": {
    "execution": {
     "iopub.execute_input": "2022-05-30T06:20:22.428246Z",
     "iopub.status.busy": "2022-05-30T06:20:22.427438Z",
     "iopub.status.idle": "2022-05-30T06:20:22.432129Z",
     "shell.execute_reply": "2022-05-30T06:20:22.431517Z",
     "shell.execute_reply.started": "2022-05-30T06:16:59.378471Z"
    },
    "papermill": {
     "duration": 0.03154,
     "end_time": "2022-05-30T06:20:22.432281",
     "exception": false,
     "start_time": "2022-05-30T06:20:22.400741",
     "status": "completed"
    },
    "tags": []
   },
   "outputs": [],
   "source": [
    "def makefilelist(path):\n",
    "    file_path=[]\n",
    "    labels=[]\n",
    "    for i in os.listdir(path):\n",
    "        for j in os.listdir(path+i):\n",
    "            file_path.append(path+i+'/'+j)\n",
    "            labels.append(i)\n",
    "    return file_path,labels        "
   ]
  },
  {
   "cell_type": "code",
   "execution_count": 4,
   "id": "9c477555",
   "metadata": {
    "execution": {
     "iopub.execute_input": "2022-05-30T06:20:22.477314Z",
     "iopub.status.busy": "2022-05-30T06:20:22.476585Z",
     "iopub.status.idle": "2022-05-30T06:20:26.189452Z",
     "shell.execute_reply": "2022-05-30T06:20:26.188922Z",
     "shell.execute_reply.started": "2022-05-30T06:16:59.394656Z"
    },
    "papermill": {
     "duration": 3.737145,
     "end_time": "2022-05-30T06:20:26.189632",
     "exception": false,
     "start_time": "2022-05-30T06:20:22.452487",
     "status": "completed"
    },
    "tags": []
   },
   "outputs": [],
   "source": [
    "\n",
    "test_path='../input/mnist0100/MNIST(0-100)/test/'\n",
    "test_filepath,test_labels=makefilelist(test_path)        \n"
   ]
  },
  {
   "cell_type": "code",
   "execution_count": 5,
   "id": "a1938f6f",
   "metadata": {
    "execution": {
     "iopub.execute_input": "2022-05-30T06:20:26.235957Z",
     "iopub.status.busy": "2022-05-30T06:20:26.235241Z",
     "iopub.status.idle": "2022-05-30T06:20:26.242971Z",
     "shell.execute_reply": "2022-05-30T06:20:26.242192Z",
     "shell.execute_reply.started": "2022-05-30T06:16:59.50487Z"
    },
    "papermill": {
     "duration": 0.032698,
     "end_time": "2022-05-30T06:20:26.243098",
     "exception": false,
     "start_time": "2022-05-30T06:20:26.210400",
     "status": "completed"
    },
    "tags": []
   },
   "outputs": [],
   "source": [
    "torch.manual_seed(2022);"
   ]
  },
  {
   "cell_type": "code",
   "execution_count": 6,
   "id": "d5cdbc63",
   "metadata": {
    "execution": {
     "iopub.execute_input": "2022-05-30T06:20:26.289814Z",
     "iopub.status.busy": "2022-05-30T06:20:26.286942Z",
     "iopub.status.idle": "2022-05-30T06:20:26.292811Z",
     "shell.execute_reply": "2022-05-30T06:20:26.292287Z",
     "shell.execute_reply.started": "2022-05-30T06:16:59.513166Z"
    },
    "papermill": {
     "duration": 0.029604,
     "end_time": "2022-05-30T06:20:26.292974",
     "exception": false,
     "start_time": "2022-05-30T06:20:26.263370",
     "status": "completed"
    },
    "tags": []
   },
   "outputs": [],
   "source": [
    "class CFG:\n",
    "    seed = 42\n",
    "    img_size = 64\n",
    "    num_classes = 101\n",
    "    lr = 1e-2\n",
    "    max_lr = 1e-2\n",
    "    pct_start = 0.2\n",
    "    div_factor = 1.0e+3\n",
    "    final_div_factor = 1.0e+3\n",
    "    epochs = 10\n",
    "    batch_size = 128\n",
    "    accum = 1\n",
    "    precision = 16\n",
    "    n_fold = 4\n",
    "    device = torch.device('cuda' if torch.cuda.is_available() else 'cpu')"
   ]
  },
  {
   "cell_type": "markdown",
   "id": "752c52b6",
   "metadata": {
    "papermill": {
     "duration": 0.019983,
     "end_time": "2022-05-30T06:20:26.332937",
     "exception": false,
     "start_time": "2022-05-30T06:20:26.312954",
     "status": "completed"
    },
    "tags": []
   },
   "source": [
    "# Dataset"
   ]
  },
  {
   "cell_type": "code",
   "execution_count": 7,
   "id": "1e831d20",
   "metadata": {
    "execution": {
     "iopub.execute_input": "2022-05-30T06:20:26.376393Z",
     "iopub.status.busy": "2022-05-30T06:20:26.375235Z",
     "iopub.status.idle": "2022-05-30T06:20:26.384716Z",
     "shell.execute_reply": "2022-05-30T06:20:26.384203Z",
     "shell.execute_reply.started": "2022-05-30T06:16:59.524509Z"
    },
    "papermill": {
     "duration": 0.032191,
     "end_time": "2022-05-30T06:20:26.384846",
     "exception": false,
     "start_time": "2022-05-30T06:20:26.352655",
     "status": "completed"
    },
    "tags": []
   },
   "outputs": [],
   "source": [
    "import albumentations as A\n",
    "def get_transform(phase: str):\n",
    "    if phase == 'train':\n",
    "        return Compose([\n",
    "            A.Resize(height=CFG.img_size, width=CFG.img_size),\n",
    "#             A.HueSaturationValue(p=0.5),\n",
    "#             A.OneOf([\n",
    "#                 A.RandomBrightnessContrast(p=0.5),\n",
    "#                 A.RandomGamma(p=0.5),\n",
    "#             ], p=0.5),\n",
    "#             A.OneOf([\n",
    "#                 A.Blur(p=0.1),\n",
    "#                 A.GaussianBlur(p=0.1),\n",
    "#                 A.MotionBlur(p=0.1),\n",
    "#             ], p=0.1),\n",
    "#             A.OneOf([\n",
    "#                 A.GaussNoise(p=0.1),\n",
    "#                 A.ISONoise(p=0.1),\n",
    "#                 A.GridDropout(ratio=0.5, p=0.2),\n",
    "#                 A.CoarseDropout(max_holes=16, min_holes=8, max_height=16, max_width=16, min_height=8, min_width=8, p=0.2)\n",
    "#             ], p=0.2),\n",
    "            A.Normalize(\n",
    "                mean=[0.485, 0.456, 0.406],\n",
    "                std=[0.229, 0.224, 0.225],\n",
    "            ),\n",
    "            ToTensorV2(),\n",
    "        ])\n",
    "    else:\n",
    "        return Compose([\n",
    "            A.Resize(height=CFG.img_size, width=CFG.img_size),\n",
    "            A.Normalize(\n",
    "                mean=[0.485, 0.456, 0.406],\n",
    "                std=[0.229, 0.224, 0.225],\n",
    "            ),\n",
    "            ToTensorV2(),\n",
    "        ])"
   ]
  },
  {
   "cell_type": "code",
   "execution_count": 8,
   "id": "caafbec9",
   "metadata": {
    "execution": {
     "iopub.execute_input": "2022-05-30T06:20:26.435691Z",
     "iopub.status.busy": "2022-05-30T06:20:26.434524Z",
     "iopub.status.idle": "2022-05-30T06:20:26.436946Z",
     "shell.execute_reply": "2022-05-30T06:20:26.437492Z",
     "shell.execute_reply.started": "2022-05-30T06:16:59.536053Z"
    },
    "papermill": {
     "duration": 0.032637,
     "end_time": "2022-05-30T06:20:26.437651",
     "exception": false,
     "start_time": "2022-05-30T06:20:26.405014",
     "status": "completed"
    },
    "tags": []
   },
   "outputs": [],
   "source": [
    "class mnistdataset(Dataset):\n",
    "    def __init__(self,path,labels,aug):\n",
    "        self.path=path\n",
    "        self.labels=labels\n",
    "        self.aug=aug\n",
    "        #self.resize=resize\n",
    "    def __len__(self):\n",
    "        return len(self.path)\n",
    "        \n",
    "        \n",
    "    def __getitem__(self,index):\n",
    "        \n",
    "        \n",
    "        image_path= self.path[index]\n",
    "        image = cv2.imread(image_path)\n",
    "        \n",
    "        image = cv2.cvtColor(image, cv2.COLOR_BGR2RGB)\n",
    "#         image=cv2.cvtColor(image, cv2.COLOR_BGR2GRAY)\n",
    "        \n",
    "        target=int(self.labels[index])\n",
    "            \n",
    "            \n",
    "      \n",
    "        if self.aug is not None:\n",
    "            image=self.aug(image=image)['image']\n",
    "            #image=self.aug(image)\n",
    "#             image=np.transpose(image,(2,0,1)).astype(np.float32)\n",
    "            #image=image/255.0\n",
    "        return  {\n",
    "            \"image\":image.float(),\n",
    "            \"target\":torch.tensor(target,dtype=torch.long)\n",
    "        }\n",
    "        \n",
    "        \n",
    "    "
   ]
  },
  {
   "cell_type": "code",
   "execution_count": 9,
   "id": "184e5759",
   "metadata": {
    "execution": {
     "iopub.execute_input": "2022-05-30T06:20:26.481659Z",
     "iopub.status.busy": "2022-05-30T06:20:26.480535Z",
     "iopub.status.idle": "2022-05-30T06:20:26.486303Z",
     "shell.execute_reply": "2022-05-30T06:20:26.485730Z",
     "shell.execute_reply.started": "2022-05-30T06:16:59.549529Z"
    },
    "papermill": {
     "duration": 0.028776,
     "end_time": "2022-05-30T06:20:26.486446",
     "exception": false,
     "start_time": "2022-05-30T06:20:26.457670",
     "status": "completed"
    },
    "tags": []
   },
   "outputs": [],
   "source": [
    "test_dataset=mnistdataset(test_filepath,test_labels,aug=get_transform('train'))\n"
   ]
  },
  {
   "cell_type": "code",
   "execution_count": 10,
   "id": "ca5a17a0",
   "metadata": {
    "execution": {
     "iopub.execute_input": "2022-05-30T06:20:26.532628Z",
     "iopub.status.busy": "2022-05-30T06:20:26.531630Z",
     "iopub.status.idle": "2022-05-30T06:20:26.534383Z",
     "shell.execute_reply": "2022-05-30T06:20:26.534907Z",
     "shell.execute_reply.started": "2022-05-30T06:16:59.561293Z"
    },
    "papermill": {
     "duration": 0.028456,
     "end_time": "2022-05-30T06:20:26.535060",
     "exception": false,
     "start_time": "2022-05-30T06:20:26.506604",
     "status": "completed"
    },
    "tags": []
   },
   "outputs": [],
   "source": [
    "test_loader=torch.utils.data.DataLoader(test_dataset,shuffle=True,batch_size=CFG.batch_size)\n"
   ]
  },
  {
   "cell_type": "code",
   "execution_count": 11,
   "id": "f04f8143",
   "metadata": {
    "execution": {
     "iopub.execute_input": "2022-05-30T06:20:26.580367Z",
     "iopub.status.busy": "2022-05-30T06:20:26.579216Z",
     "iopub.status.idle": "2022-05-30T06:20:26.582503Z",
     "shell.execute_reply": "2022-05-30T06:20:26.581954Z",
     "shell.execute_reply.started": "2022-05-30T06:16:59.570422Z"
    },
    "papermill": {
     "duration": 0.027232,
     "end_time": "2022-05-30T06:20:26.582638",
     "exception": false,
     "start_time": "2022-05-30T06:20:26.555406",
     "status": "completed"
    },
    "tags": []
   },
   "outputs": [],
   "source": [
    "# def imshow(img):\n",
    "#     img=img/2+0.5\n",
    "#     npimg=img.numpy()\n",
    "#     plt.imshow(np.transpose(npimg,(1,2,0)))\n",
    "#     #plt.imshow(npimg)\n",
    "#     plt.show()\n",
    "    \n",
    "# dataiter=iter(test_loader)\n",
    "# images=dataiter.next()\n",
    "# #print(images['image'][0])\n",
    "# imshow(images['image'][0])\n",
    "# image=images['image'][0]\n",
    "# image=image.unsqueeze(0)\n",
    "# image=image.to(device)\n",
    "# print(image.shape)\n",
    "# pred=model(image)\n",
    "# print(torch.max(pred,1)[1])\n"
   ]
  },
  {
   "cell_type": "markdown",
   "id": "972e6a7c",
   "metadata": {
    "papermill": {
     "duration": 0.021158,
     "end_time": "2022-05-30T06:20:26.623788",
     "exception": false,
     "start_time": "2022-05-30T06:20:26.602630",
     "status": "completed"
    },
    "tags": []
   },
   "source": [
    "# Model"
   ]
  },
  {
   "cell_type": "code",
   "execution_count": 12,
   "id": "46ee0543",
   "metadata": {
    "execution": {
     "iopub.execute_input": "2022-05-30T06:20:26.675716Z",
     "iopub.status.busy": "2022-05-30T06:20:26.671266Z",
     "iopub.status.idle": "2022-05-30T06:20:26.678828Z",
     "shell.execute_reply": "2022-05-30T06:20:26.678302Z",
     "shell.execute_reply.started": "2022-05-30T06:16:59.57941Z"
    },
    "papermill": {
     "duration": 0.035265,
     "end_time": "2022-05-30T06:20:26.679005",
     "exception": false,
     "start_time": "2022-05-30T06:20:26.643740",
     "status": "completed"
    },
    "tags": []
   },
   "outputs": [],
   "source": [
    "class mnistmodel(nn.Module):\n",
    "    \"\"\"A simple convolutional network to tackle Digit Recognizer competition.\"\"\"\n",
    "\n",
    "    def __init__(self):\n",
    "        super().__init__()\n",
    "\n",
    "        self.conv0 = nn.Conv2d(3, 64, 3, padding=1)\n",
    "        self.bn0 = nn.BatchNorm2d(64)\n",
    "        self.pool0 = nn.MaxPool2d(2)\n",
    "        self.dropout0 = nn.Dropout2d(p=0.27)\n",
    "\n",
    "        self.conv1 = nn.Conv2d(64, 128, 3, padding=1)\n",
    "        self.bn1 = nn.BatchNorm2d(128)\n",
    "        self.pool1 = nn.MaxPool2d(2)\n",
    "        self.dropout1 = nn.Dropout2d(p=0.27)\n",
    "\n",
    "#         self.conv2 = nn.Conv2d(128, 192, 3, padding=1)\n",
    "#         self.bn2 = nn.BatchNorm2d(192)\n",
    "#         self.pool2 = nn.MaxPool2d(2)\n",
    "#         self.dropout2 = nn.Dropout2d(p=0.27)\n",
    "\n",
    "#         self.global_pool = nn.AdaptiveAvgPool2d(output_size=(1, 1))\n",
    "        self.fc = nn.Linear(in_features=32768, out_features=101)\n",
    "\n",
    "          \n",
    "      \n",
    "        \n",
    "    def forward(self, x):\n",
    "        out = self.conv0(x)\n",
    "        out = self.bn0(out).relu()\n",
    "        out = self.pool0(out)\n",
    "        out = self.dropout0(out)\n",
    "\n",
    "        out = self.conv1(out)\n",
    "        out = self.bn1(out).relu()\n",
    "        out = self.pool1(out)\n",
    "        out = self.dropout1(out)\n",
    "\n",
    "#         out = self.conv2(out)\n",
    "#         out = self.bn2(out).relu()\n",
    "#         out = self.pool2(out)\n",
    "#         out = self.dropout2(out)\n",
    "\n",
    "#         out = self.global_pool(out)\n",
    "        out = out.reshape(-1,32768 )\n",
    "        out = self.fc(out)\n",
    "        return out\n",
    "       "
   ]
  },
  {
   "cell_type": "markdown",
   "id": "1882056b",
   "metadata": {
    "papermill": {
     "duration": 0.019948,
     "end_time": "2022-05-30T06:20:26.718703",
     "exception": false,
     "start_time": "2022-05-30T06:20:26.698755",
     "status": "completed"
    },
    "tags": []
   },
   "source": [
    "# Load model weights"
   ]
  },
  {
   "cell_type": "code",
   "execution_count": 13,
   "id": "41804a23",
   "metadata": {
    "execution": {
     "iopub.execute_input": "2022-05-30T06:20:26.766390Z",
     "iopub.status.busy": "2022-05-30T06:20:26.765615Z",
     "iopub.status.idle": "2022-05-30T06:20:30.732454Z",
     "shell.execute_reply": "2022-05-30T06:20:30.733068Z",
     "shell.execute_reply.started": "2022-05-30T06:16:59.59419Z"
    },
    "papermill": {
     "duration": 3.994159,
     "end_time": "2022-05-30T06:20:30.733246",
     "exception": false,
     "start_time": "2022-05-30T06:20:26.739087",
     "status": "completed"
    },
    "tags": []
   },
   "outputs": [
    {
     "data": {
      "text/plain": [
       "<All keys matched successfully>"
      ]
     },
     "execution_count": 13,
     "metadata": {},
     "output_type": "execute_result"
    }
   ],
   "source": [
    "from torch.optim import Adam,SGD\n",
    "model=mnistmodel()\n",
    "model.to(device)\n",
    "model.load_state_dict(torch.load('../input/nybsys-project-demo/Epoch-7--with--val_loss--0.760'))\n",
    "                                "
   ]
  },
  {
   "cell_type": "markdown",
   "id": "a2dc4d13",
   "metadata": {
    "papermill": {
     "duration": 0.020301,
     "end_time": "2022-05-30T06:20:30.774685",
     "exception": false,
     "start_time": "2022-05-30T06:20:30.754384",
     "status": "completed"
    },
    "tags": []
   },
   "source": [
    "# Inference"
   ]
  },
  {
   "cell_type": "code",
   "execution_count": 14,
   "id": "a0824fe3",
   "metadata": {
    "execution": {
     "iopub.execute_input": "2022-05-30T06:20:30.824903Z",
     "iopub.status.busy": "2022-05-30T06:20:30.824020Z",
     "iopub.status.idle": "2022-05-30T06:21:48.973361Z",
     "shell.execute_reply": "2022-05-30T06:21:48.974402Z",
     "shell.execute_reply.started": "2022-05-30T06:16:59.992065Z"
    },
    "papermill": {
     "duration": 78.179264,
     "end_time": "2022-05-30T06:21:48.974788",
     "exception": false,
     "start_time": "2022-05-30T06:20:30.795524",
     "status": "completed"
    },
    "tags": []
   },
   "outputs": [
    {
     "name": "stderr",
     "output_type": "stream",
     "text": [
      "                                               "
     ]
    },
    {
     "name": "stdout",
     "output_type": "stream",
     "text": [
      "------Accuracy-----\n",
      "82.06705590743053\n"
     ]
    },
    {
     "name": "stderr",
     "output_type": "stream",
     "text": [
      "\r"
     ]
    }
   ],
   "source": [
    "from tqdm import tqdm\n",
    "\n",
    "loop=tqdm(test_loader,leave=False)\n",
    "model.eval()\n",
    "val_acc_list=[]\n",
    "with torch.no_grad():\n",
    "    i=0\n",
    "    for data in loop:\n",
    "        i+=1\n",
    "        image=data['image'].to(device)\n",
    "        target=data['target'].to(device)\n",
    "        output=model(image)\n",
    "        _,final_output=torch.max(torch.nn.functional.softmax(output,1),1)\n",
    "        cor=torch.sum(target==final_output)\n",
    "        acc=(cor*100)/len(target)\n",
    "        val_acc_list.append(acc.item())\n",
    "    print(\"------Accuracy-----\")       \n",
    "    print(sum(val_acc_list)/i)    \n",
    "    "
   ]
  },
  {
   "cell_type": "code",
   "execution_count": null,
   "id": "58eab593",
   "metadata": {
    "papermill": {
     "duration": 0.116418,
     "end_time": "2022-05-30T06:21:49.210393",
     "exception": false,
     "start_time": "2022-05-30T06:21:49.093975",
     "status": "completed"
    },
    "tags": []
   },
   "outputs": [],
   "source": []
  }
 ],
 "metadata": {
  "kernelspec": {
   "display_name": "Python 3",
   "language": "python",
   "name": "python3"
  },
  "language_info": {
   "codemirror_mode": {
    "name": "ipython",
    "version": 3
   },
   "file_extension": ".py",
   "mimetype": "text/x-python",
   "name": "python",
   "nbconvert_exporter": "python",
   "pygments_lexer": "ipython3",
   "version": "3.7.12"
  },
  "papermill": {
   "default_parameters": {},
   "duration": 107.707114,
   "end_time": "2022-05-30T06:21:52.137903",
   "environment_variables": {},
   "exception": null,
   "input_path": "__notebook__.ipynb",
   "output_path": "__notebook__.ipynb",
   "parameters": {},
   "start_time": "2022-05-30T06:20:04.430789",
   "version": "2.3.3"
  }
 },
 "nbformat": 4,
 "nbformat_minor": 5
}
