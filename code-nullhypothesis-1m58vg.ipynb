{
 "cells": [
  {
   "cell_type": "code",
   "execution_count": 1,
   "id": "084dd993",
   "metadata": {
    "_cell_guid": "b1076dfc-b9ad-4769-8c92-a6c4dae69d19",
    "_uuid": "8f2839f25d086af736a60e9eeb907d3b93b6e0e5",
    "execution": {
     "iopub.execute_input": "2022-06-10T12:27:29.971975Z",
     "iopub.status.busy": "2022-06-10T12:27:29.971481Z",
     "iopub.status.idle": "2022-06-10T12:27:34.699984Z",
     "shell.execute_reply": "2022-06-10T12:27:34.698426Z"
    },
    "papermill": {
     "duration": 4.742424,
     "end_time": "2022-06-10T12:27:34.703789",
     "exception": false,
     "start_time": "2022-06-10T12:27:29.961365",
     "status": "completed"
    },
    "tags": []
   },
   "outputs": [
    {
     "data": {
      "text/html": [
       "<style type='text/css'>\n",
       ".datatable table.frame { margin-bottom: 0; }\n",
       ".datatable table.frame thead { border-bottom: none; }\n",
       ".datatable table.frame tr.coltypes td {  color: #FFFFFF;  line-height: 6px;  padding: 0 0.5em;}\n",
       ".datatable .bool    { background: #DDDD99; }\n",
       ".datatable .object  { background: #565656; }\n",
       ".datatable .int     { background: #5D9E5D; }\n",
       ".datatable .float   { background: #4040CC; }\n",
       ".datatable .str     { background: #CC4040; }\n",
       ".datatable .time    { background: #40CC40; }\n",
       ".datatable .row_index {  background: var(--jp-border-color3);  border-right: 1px solid var(--jp-border-color0);  color: var(--jp-ui-font-color3);  font-size: 9px;}\n",
       ".datatable .frame tbody td { text-align: left; }\n",
       ".datatable .frame tr.coltypes .row_index {  background: var(--jp-border-color0);}\n",
       ".datatable th:nth-child(2) { padding-left: 12px; }\n",
       ".datatable .hellipsis {  color: var(--jp-cell-editor-border-color);}\n",
       ".datatable .vellipsis {  background: var(--jp-layout-color0);  color: var(--jp-cell-editor-border-color);}\n",
       ".datatable .na {  color: var(--jp-cell-editor-border-color);  font-size: 80%;}\n",
       ".datatable .sp {  opacity: 0.25;}\n",
       ".datatable .footer { font-size: 9px; }\n",
       ".datatable .frame_dimensions {  background: var(--jp-border-color3);  border-top: 1px solid var(--jp-border-color0);  color: var(--jp-ui-font-color3);  display: inline-block;  opacity: 0.6;  padding: 1px 10px 1px 5px;}\n",
       "</style>\n"
      ],
      "text/plain": [
       "<IPython.core.display.HTML object>"
      ]
     },
     "metadata": {},
     "output_type": "display_data"
    },
    {
     "name": "stdout",
     "output_type": "stream",
     "text": [
      "/kaggle/input/robi-datathon-2-pre-assessment/sample_submission.csv\n",
      "/kaggle/input/robi-datathon-2-pre-assessment/train.csv\n",
      "/kaggle/input/robi-datathon-2-pre-assessment/test.csv\n"
     ]
    }
   ],
   "source": [
    "# This Python 3 environment comes with many helpful analytics libraries installed\n",
    "# It is defined by the kaggle/python Docker image: https://github.com/kaggle/docker-python\n",
    "# For example, here's several helpful packages to load\n",
    "#pip install pytorch-tabnet\n",
    "import numpy as np # linear algebra\n",
    "import pandas as pd # data processing, CSV file I/O (e.g. pd.read_csv)\n",
    "#from pytorch_tabnet.tab_model import TabNetClassifier\n",
    "# Input data files are available in the read-only \"../input/\" directory\n",
    "# For example, running this (by clicking run or pressing Shift+Enter) will list all files under the input directory\n",
    "import xgboost as xgb\n",
    "import lightgbm as lgb\n",
    "from catboost import CatBoostClassifier\n",
    "from sklearn.model_selection import StratifiedKFold\n",
    "from sklearn.metrics import roc_auc_score\n",
    "from sklearn.preprocessing import LabelEncoder\n",
    "import os\n",
    "from sklearn.ensemble import RandomForestClassifier\n",
    "from sklearn.linear_model import LogisticRegression\n",
    "import torch\n",
    "from sklearn.feature_selection import mutual_info_classif\n",
    "import matplotlib.pyplot as plt\n",
    "%matplotlib inline\n",
    "from imblearn.over_sampling import SMOTE\n",
    "for dirname, _, filenames in os.walk('/kaggle/input'):\n",
    "    for filename in filenames:\n",
    "        print(os.path.join(dirname, filename))\n",
    "import warnings\n",
    "warnings.filterwarnings(\"ignore\")\n",
    "# You can write up to 20GB to the current directory (/kaggle/working/) that gets preserved as output when you create a version using \"Save & Run All\" \n",
    "# You can also write temporary files to /kaggle/temp/, but they won't be saved outside of the current session"
   ]
  },
  {
   "cell_type": "code",
   "execution_count": 2,
   "id": "62833fda",
   "metadata": {
    "execution": {
     "iopub.execute_input": "2022-06-10T12:27:34.716787Z",
     "iopub.status.busy": "2022-06-10T12:27:34.715829Z",
     "iopub.status.idle": "2022-06-10T12:27:35.010805Z",
     "shell.execute_reply": "2022-06-10T12:27:35.009946Z"
    },
    "papermill": {
     "duration": 0.303732,
     "end_time": "2022-06-10T12:27:35.013097",
     "exception": false,
     "start_time": "2022-06-10T12:27:34.709365",
     "status": "completed"
    },
    "tags": []
   },
   "outputs": [],
   "source": [
    "train=pd.read_csv(\"../input/robi-datathon-2-pre-assessment/train.csv\")\n",
    "columns=train.drop(['id',], axis=1).columns"
   ]
  },
  {
   "cell_type": "markdown",
   "id": "c904563e",
   "metadata": {
    "papermill": {
     "duration": 0.004066,
     "end_time": "2022-06-10T12:27:35.021766",
     "exception": false,
     "start_time": "2022-06-10T12:27:35.017700",
     "status": "completed"
    },
    "tags": []
   },
   "source": [
    "#  Upsampling to solve data imbalance"
   ]
  },
  {
   "cell_type": "code",
   "execution_count": 3,
   "id": "b4ff23bf",
   "metadata": {
    "execution": {
     "iopub.execute_input": "2022-06-10T12:27:35.032821Z",
     "iopub.status.busy": "2022-06-10T12:27:35.031616Z",
     "iopub.status.idle": "2022-06-10T12:27:36.038129Z",
     "shell.execute_reply": "2022-06-10T12:27:36.037067Z"
    },
    "papermill": {
     "duration": 1.014726,
     "end_time": "2022-06-10T12:27:36.040789",
     "exception": false,
     "start_time": "2022-06-10T12:27:35.026063",
     "status": "completed"
    },
    "tags": []
   },
   "outputs": [],
   "source": [
    "\n",
    "cat_col=[col for col in train.columns if train[col].dtype=='object']\n",
    "num_col=[col for col in train.columns if train[col].dtype!='object']\n",
    "    \n",
    "le = LabelEncoder()\n",
    "train=train.fillna(0)\n",
    "for col in cat_col:\n",
    "    train[col] = le.fit_transform(train[col].astype(str))\n",
    "# Resample the minority class. You can change the strategy to 'auto' if you are not sure.\n",
    "sm = SMOTE(sampling_strategy='minority', random_state=7)\n",
    "\n",
    "# Fit the model to generate the data.\n",
    "oversampled_trainX, oversampled_trainY = sm.fit_resample(train.drop(['id','label'], axis=1), train['label'])\n",
    "oversampled_train = pd.concat([pd.DataFrame(oversampled_trainX),pd.DataFrame(oversampled_trainY) ], axis=1)\n",
    "oversampled_train.columns = columns"
   ]
  },
  {
   "cell_type": "code",
   "execution_count": 4,
   "id": "b009148f",
   "metadata": {
    "execution": {
     "iopub.execute_input": "2022-06-10T12:27:36.051264Z",
     "iopub.status.busy": "2022-06-10T12:27:36.050808Z",
     "iopub.status.idle": "2022-06-10T12:27:36.061837Z",
     "shell.execute_reply": "2022-06-10T12:27:36.060727Z"
    },
    "papermill": {
     "duration": 0.01859,
     "end_time": "2022-06-10T12:27:36.063926",
     "exception": false,
     "start_time": "2022-06-10T12:27:36.045336",
     "status": "completed"
    },
    "tags": []
   },
   "outputs": [
    {
     "data": {
      "text/plain": [
       "0    23562\n",
       "1    23562\n",
       "Name: label, dtype: int64"
      ]
     },
     "execution_count": 4,
     "metadata": {},
     "output_type": "execute_result"
    }
   ],
   "source": [
    "oversampled_train['label'].value_counts()"
   ]
  },
  {
   "cell_type": "code",
   "execution_count": 5,
   "id": "051aadc7",
   "metadata": {
    "execution": {
     "iopub.execute_input": "2022-06-10T12:27:36.074507Z",
     "iopub.status.busy": "2022-06-10T12:27:36.074113Z",
     "iopub.status.idle": "2022-06-10T12:27:36.082272Z",
     "shell.execute_reply": "2022-06-10T12:27:36.081316Z"
    },
    "papermill": {
     "duration": 0.015649,
     "end_time": "2022-06-10T12:27:36.084092",
     "exception": false,
     "start_time": "2022-06-10T12:27:36.068443",
     "status": "completed"
    },
    "tags": []
   },
   "outputs": [],
   "source": [
    "cat_col=[col for col in train.columns if train[col].dtype=='object']\n",
    "num_col=[col for col in train.columns if train[col].dtype!='object']\n",
    "    "
   ]
  },
  {
   "cell_type": "markdown",
   "id": "3cf1d7e9",
   "metadata": {
    "papermill": {
     "duration": 0.004255,
     "end_time": "2022-06-10T12:27:36.092947",
     "exception": false,
     "start_time": "2022-06-10T12:27:36.088692",
     "status": "completed"
    },
    "tags": []
   },
   "source": [
    "# Preprocess Function"
   ]
  },
  {
   "cell_type": "markdown",
   "id": "19d16a20",
   "metadata": {
    "papermill": {
     "duration": 0.004109,
     "end_time": "2022-06-10T12:27:36.101330",
     "exception": false,
     "start_time": "2022-06-10T12:27:36.097221",
     "status": "completed"
    },
    "tags": []
   },
   "source": [
    "**Some features have null values only so they have been removed**"
   ]
  },
  {
   "cell_type": "code",
   "execution_count": 6,
   "id": "23baa4b3",
   "metadata": {
    "execution": {
     "iopub.execute_input": "2022-06-10T12:27:36.111901Z",
     "iopub.status.busy": "2022-06-10T12:27:36.111464Z",
     "iopub.status.idle": "2022-06-10T12:27:36.119621Z",
     "shell.execute_reply": "2022-06-10T12:27:36.118557Z"
    },
    "papermill": {
     "duration": 0.015996,
     "end_time": "2022-06-10T12:27:36.121678",
     "exception": false,
     "start_time": "2022-06-10T12:27:36.105682",
     "status": "completed"
    },
    "tags": []
   },
   "outputs": [],
   "source": [
    "def preprocess(train,istest):\n",
    "    cat_col=[col for col in train.columns if train[col].dtype=='object']\n",
    "    num_col=[col for col in train.columns if train[col].dtype!='object']\n",
    "    \n",
    "    le = LabelEncoder()\n",
    "    train=train.fillna(0)\n",
    "    for col in cat_col:\n",
    "        train[col] = le.fit_transform(train[col].astype(str))\n",
    "#     for c in cat_col:\n",
    "#         train[c] = train[c].astype('category')\n",
    "    if istest==0:\n",
    "        #X=train.drop(['id','label','s54','s55','s56','s57','s59','s58','s53','s12','n11','n12','n13','n14','n15'],axis=1)\n",
    "        #X=train[['gender','s52','s16','n6','n5','s70','s71','s69','s18','s48','s17','s11']]\n",
    "        #X=train.drop(['s54','s55','s56','s57','s59','label'],axis=1)\n",
    "        X=train.drop(['label'],axis=1)\n",
    "        #X=train[['s69','s52','s16']]\n",
    "        \n",
    "        \n",
    "        Y=train['label']\n",
    "       \n",
    "        return X,Y\n",
    "    else:\n",
    "#         X=train.drop(['id','s54','s55','s56','s57','s59'],axis=1)\n",
    "#         X=train[['s69','s52','s16']]\n",
    "#         X=train.drop(['id','s54','s55','s56','s57','s59'],axis=1)\n",
    "        X=train.drop(['id'],axis=1)\n",
    "       \n",
    "        return X\n",
    "        \n",
    "    "
   ]
  },
  {
   "cell_type": "code",
   "execution_count": 7,
   "id": "8105943d",
   "metadata": {
    "execution": {
     "iopub.execute_input": "2022-06-10T12:27:36.132386Z",
     "iopub.status.busy": "2022-06-10T12:27:36.131980Z",
     "iopub.status.idle": "2022-06-10T12:27:36.168463Z",
     "shell.execute_reply": "2022-06-10T12:27:36.167411Z"
    },
    "papermill": {
     "duration": 0.044626,
     "end_time": "2022-06-10T12:27:36.170837",
     "exception": false,
     "start_time": "2022-06-10T12:27:36.126211",
     "status": "completed"
    },
    "tags": []
   },
   "outputs": [],
   "source": [
    "X,Y=preprocess(oversampled_train,0)"
   ]
  },
  {
   "cell_type": "code",
   "execution_count": 8,
   "id": "91db2ad0",
   "metadata": {
    "execution": {
     "iopub.execute_input": "2022-06-10T12:27:36.181876Z",
     "iopub.status.busy": "2022-06-10T12:27:36.181420Z",
     "iopub.status.idle": "2022-06-10T12:27:36.207158Z",
     "shell.execute_reply": "2022-06-10T12:27:36.206110Z"
    },
    "papermill": {
     "duration": 0.033968,
     "end_time": "2022-06-10T12:27:36.209527",
     "exception": false,
     "start_time": "2022-06-10T12:27:36.175559",
     "status": "completed"
    },
    "tags": []
   },
   "outputs": [
    {
     "data": {
      "text/html": [
       "<div>\n",
       "<style scoped>\n",
       "    .dataframe tbody tr th:only-of-type {\n",
       "        vertical-align: middle;\n",
       "    }\n",
       "\n",
       "    .dataframe tbody tr th {\n",
       "        vertical-align: top;\n",
       "    }\n",
       "\n",
       "    .dataframe thead th {\n",
       "        text-align: right;\n",
       "    }\n",
       "</style>\n",
       "<table border=\"1\" class=\"dataframe\">\n",
       "  <thead>\n",
       "    <tr style=\"text-align: right;\">\n",
       "      <th></th>\n",
       "      <th>gender</th>\n",
       "      <th>s11</th>\n",
       "      <th>s12</th>\n",
       "      <th>s13</th>\n",
       "      <th>s16</th>\n",
       "      <th>s17</th>\n",
       "      <th>s18</th>\n",
       "      <th>s48</th>\n",
       "      <th>s52</th>\n",
       "      <th>s53</th>\n",
       "      <th>...</th>\n",
       "      <th>n6</th>\n",
       "      <th>n7</th>\n",
       "      <th>n8</th>\n",
       "      <th>n9</th>\n",
       "      <th>n10</th>\n",
       "      <th>n11</th>\n",
       "      <th>n12</th>\n",
       "      <th>n13</th>\n",
       "      <th>n14</th>\n",
       "      <th>n15</th>\n",
       "    </tr>\n",
       "  </thead>\n",
       "  <tbody>\n",
       "    <tr>\n",
       "      <th>0</th>\n",
       "      <td>1</td>\n",
       "      <td>1</td>\n",
       "      <td>0</td>\n",
       "      <td>1</td>\n",
       "      <td>3</td>\n",
       "      <td>3</td>\n",
       "      <td>1</td>\n",
       "      <td>0</td>\n",
       "      <td>1</td>\n",
       "      <td>1</td>\n",
       "      <td>...</td>\n",
       "      <td>0.017176</td>\n",
       "      <td>-9.126056</td>\n",
       "      <td>1.732291</td>\n",
       "      <td>3.698504</td>\n",
       "      <td>4.804517</td>\n",
       "      <td>1.544484</td>\n",
       "      <td>0</td>\n",
       "      <td>0</td>\n",
       "      <td>0.631220</td>\n",
       "      <td>5</td>\n",
       "    </tr>\n",
       "    <tr>\n",
       "      <th>1</th>\n",
       "      <td>1</td>\n",
       "      <td>1</td>\n",
       "      <td>1</td>\n",
       "      <td>1</td>\n",
       "      <td>3</td>\n",
       "      <td>3</td>\n",
       "      <td>1</td>\n",
       "      <td>1</td>\n",
       "      <td>1</td>\n",
       "      <td>1</td>\n",
       "      <td>...</td>\n",
       "      <td>0.013857</td>\n",
       "      <td>-9.098287</td>\n",
       "      <td>1.505885</td>\n",
       "      <td>6.791357</td>\n",
       "      <td>6.110416</td>\n",
       "      <td>1.712354</td>\n",
       "      <td>0</td>\n",
       "      <td>0</td>\n",
       "      <td>0.392746</td>\n",
       "      <td>3</td>\n",
       "    </tr>\n",
       "    <tr>\n",
       "      <th>2</th>\n",
       "      <td>1</td>\n",
       "      <td>1</td>\n",
       "      <td>1</td>\n",
       "      <td>1</td>\n",
       "      <td>3</td>\n",
       "      <td>3</td>\n",
       "      <td>1</td>\n",
       "      <td>0</td>\n",
       "      <td>1</td>\n",
       "      <td>1</td>\n",
       "      <td>...</td>\n",
       "      <td>0.013943</td>\n",
       "      <td>-9.234894</td>\n",
       "      <td>1.503828</td>\n",
       "      <td>4.109685</td>\n",
       "      <td>3.953226</td>\n",
       "      <td>1.804260</td>\n",
       "      <td>0</td>\n",
       "      <td>0</td>\n",
       "      <td>0.222537</td>\n",
       "      <td>2</td>\n",
       "    </tr>\n",
       "    <tr>\n",
       "      <th>3</th>\n",
       "      <td>0</td>\n",
       "      <td>1</td>\n",
       "      <td>1</td>\n",
       "      <td>1</td>\n",
       "      <td>3</td>\n",
       "      <td>3</td>\n",
       "      <td>1</td>\n",
       "      <td>0</td>\n",
       "      <td>1</td>\n",
       "      <td>1</td>\n",
       "      <td>...</td>\n",
       "      <td>0.010387</td>\n",
       "      <td>-9.378025</td>\n",
       "      <td>1.485863</td>\n",
       "      <td>7.265876</td>\n",
       "      <td>4.559419</td>\n",
       "      <td>1.537645</td>\n",
       "      <td>0</td>\n",
       "      <td>0</td>\n",
       "      <td>0.154409</td>\n",
       "      <td>4</td>\n",
       "    </tr>\n",
       "    <tr>\n",
       "      <th>4</th>\n",
       "      <td>1</td>\n",
       "      <td>0</td>\n",
       "      <td>1</td>\n",
       "      <td>1</td>\n",
       "      <td>1</td>\n",
       "      <td>3</td>\n",
       "      <td>3</td>\n",
       "      <td>1</td>\n",
       "      <td>2</td>\n",
       "      <td>1</td>\n",
       "      <td>...</td>\n",
       "      <td>0.016289</td>\n",
       "      <td>-9.261962</td>\n",
       "      <td>1.619210</td>\n",
       "      <td>3.737647</td>\n",
       "      <td>4.052003</td>\n",
       "      <td>1.637831</td>\n",
       "      <td>0</td>\n",
       "      <td>1</td>\n",
       "      <td>0.737560</td>\n",
       "      <td>1</td>\n",
       "    </tr>\n",
       "  </tbody>\n",
       "</table>\n",
       "<p>5 rows × 34 columns</p>\n",
       "</div>"
      ],
      "text/plain": [
       "   gender  s11  s12  s13  s16  s17  s18  s48  s52  s53  ...        n6  \\\n",
       "0       1    1    0    1    3    3    1    0    1    1  ...  0.017176   \n",
       "1       1    1    1    1    3    3    1    1    1    1  ...  0.013857   \n",
       "2       1    1    1    1    3    3    1    0    1    1  ...  0.013943   \n",
       "3       0    1    1    1    3    3    1    0    1    1  ...  0.010387   \n",
       "4       1    0    1    1    1    3    3    1    2    1  ...  0.016289   \n",
       "\n",
       "         n7        n8        n9       n10       n11  n12  n13       n14  n15  \n",
       "0 -9.126056  1.732291  3.698504  4.804517  1.544484    0    0  0.631220    5  \n",
       "1 -9.098287  1.505885  6.791357  6.110416  1.712354    0    0  0.392746    3  \n",
       "2 -9.234894  1.503828  4.109685  3.953226  1.804260    0    0  0.222537    2  \n",
       "3 -9.378025  1.485863  7.265876  4.559419  1.537645    0    0  0.154409    4  \n",
       "4 -9.261962  1.619210  3.737647  4.052003  1.637831    0    1  0.737560    1  \n",
       "\n",
       "[5 rows x 34 columns]"
      ]
     },
     "execution_count": 8,
     "metadata": {},
     "output_type": "execute_result"
    }
   ],
   "source": [
    "X.head()"
   ]
  },
  {
   "cell_type": "markdown",
   "id": "b0c1429b",
   "metadata": {
    "papermill": {
     "duration": 0.00459,
     "end_time": "2022-06-10T12:27:36.218951",
     "exception": false,
     "start_time": "2022-06-10T12:27:36.214361",
     "status": "completed"
    },
    "tags": []
   },
   "source": [
    "# Feature analysis for feature selection"
   ]
  },
  {
   "cell_type": "code",
   "execution_count": 9,
   "id": "c6234494",
   "metadata": {
    "execution": {
     "iopub.execute_input": "2022-06-10T12:27:36.229918Z",
     "iopub.status.busy": "2022-06-10T12:27:36.229468Z",
     "iopub.status.idle": "2022-06-10T12:27:44.545009Z",
     "shell.execute_reply": "2022-06-10T12:27:44.543673Z"
    },
    "papermill": {
     "duration": 8.323939,
     "end_time": "2022-06-10T12:27:44.547454",
     "exception": false,
     "start_time": "2022-06-10T12:27:36.223515",
     "status": "completed"
    },
    "tags": []
   },
   "outputs": [
    {
     "data": {
      "image/png": "[encoded data removed]",
      "text/plain": [
       "<Figure size 720x720 with 1 Axes>"
      ]
     },
     "metadata": {
      "needs_background": "light"
     },
     "output_type": "display_data"
    }
   ],
   "source": [
    "## Feature importance is analysed here\n",
    "plt.figure(figsize=(10,10))\n",
    "importances=mutual_info_classif(X,Y)\n",
    "feat_imp=pd.Series(importances,X.columns)\n",
    "feat_imp.plot(kind='barh',color='teal')\n",
    "plt.show()\n"
   ]
  },
  {
   "cell_type": "code",
   "execution_count": 10,
   "id": "b4c722d5",
   "metadata": {
    "_kg_hide-input": false,
    "execution": {
     "iopub.execute_input": "2022-06-10T12:27:44.560073Z",
     "iopub.status.busy": "2022-06-10T12:27:44.559600Z",
     "iopub.status.idle": "2022-06-10T12:27:44.565141Z",
     "shell.execute_reply": "2022-06-10T12:27:44.564194Z"
    },
    "papermill": {
     "duration": 0.01464,
     "end_time": "2022-06-10T12:27:44.567622",
     "exception": false,
     "start_time": "2022-06-10T12:27:44.552982",
     "status": "completed"
    },
    "tags": []
   },
   "outputs": [],
   "source": [
    "# def train(model1,model2,model3,model4,cv_splits):\n",
    "#     fold=0\n",
    "#     total_roc=[]\n",
    "#     skf = StratifiedKFold(n_splits=cv_splits)\n",
    "#     for train_index, test_index in skf.split(X, Y):\n",
    "#         x_train, x_val = X.iloc[train_index], X.iloc[test_index]\n",
    "#         y_train, y_val = Y.iloc[train_index], Y.iloc[test_index]\n",
    "        \n",
    "#         thr=0.5\n",
    "#         model1.fit(x_train,y_train)\n",
    "#         preds1=model1.predict_proba(x_val)\n",
    "#         final_preds1=[1 if i[1]>thr else 0 for i in preds1]\n",
    "# #         model2.fit(x_train,y_train)\n",
    "# #         preds2=model2.predict_proba(x_val)\n",
    "# #         final_preds2=[1 if i[1]> thr else 0 for i in preds2]\n",
    "# #         model3.fit(x_train,y_train)\n",
    "# #         preds3=model3.predict_proba(x_val)\n",
    "# #         final_preds3=[1 if i[1]>thr else 0 for i in preds3]\n",
    "# #         model4.fit(x_train,y_train)\n",
    "# #         preds4=model4.predict_proba(x_val)\n",
    "# #         final_preds4=[1 if i[1]>thr else 0 for i in preds4]\n",
    "                \n",
    "\n",
    "#         ######################################\n",
    "#         ######################################\n",
    "       \n",
    "#         final_preds=np.array(final_preds1)\n",
    "# #         +np.array(final_preds2)+np.array(final_preds3)+np.array(final_preds4)\n",
    "# #         print(len(final_preds1),len(final_preds))\n",
    "# #         final_preds=[1 if i >1 else 0 for i in final_preds]\n",
    "# #         print(final_preds)\n",
    "       \n",
    "# #        preds=model.predict_proba(x_val)\n",
    "# #        final_preds2=[1 if i[1]>0.15 else 0 for i in preds]\n",
    "#        # final_preds=np.argmax(final_preds,axis=1)\n",
    "      \n",
    "#         print(f\"Fold--{fold}\")\n",
    "#         fold+=1\n",
    "#         roc=roc_auc_score(y_val,final_preds)\n",
    "#         total_roc.append(roc)\n",
    "#         print(roc)\n",
    "#         print(\"-----------------------------------------\")\n",
    "#     print(f\"Average Roc---{sum(total_roc)/len(total_roc)}\")"
   ]
  },
  {
   "cell_type": "markdown",
   "id": "4b4447f9",
   "metadata": {
    "papermill": {
     "duration": 0.004825,
     "end_time": "2022-06-10T12:27:44.578106",
     "exception": false,
     "start_time": "2022-06-10T12:27:44.573281",
     "status": "completed"
    },
    "tags": []
   },
   "source": [
    "# Train Function"
   ]
  },
  {
   "cell_type": "code",
   "execution_count": 11,
   "id": "9fd3d76f",
   "metadata": {
    "execution": {
     "iopub.execute_input": "2022-06-10T12:27:44.590359Z",
     "iopub.status.busy": "2022-06-10T12:27:44.589846Z",
     "iopub.status.idle": "2022-06-10T12:27:44.597201Z",
     "shell.execute_reply": "2022-06-10T12:27:44.596411Z"
    },
    "papermill": {
     "duration": 0.015993,
     "end_time": "2022-06-10T12:27:44.599256",
     "exception": false,
     "start_time": "2022-06-10T12:27:44.583263",
     "status": "completed"
    },
    "tags": []
   },
   "outputs": [],
   "source": [
    "# 5 fold cross-validation training and roc printed on validation data\n",
    "def train(model,cv_splits):\n",
    "    fold=0\n",
    "    total_roc=[]\n",
    "    skf = StratifiedKFold(n_splits=cv_splits)\n",
    "    for train_index, test_index in skf.split(X, Y):\n",
    "        x_train, x_val = X.iloc[train_index], X.iloc[test_index]\n",
    "        y_train, y_val = Y.iloc[train_index], Y.iloc[test_index]\n",
    "        \n",
    "        model.fit(x_train,y_train)\n",
    "        preds=model.predict(x_val)\n",
    "        final_preds=preds\n",
    "\n",
    "        ######################################\n",
    "        ######################################\n",
    "       \n",
    "        final_preds=np.array(final_preds)\n",
    "        print(f\"Fold--{fold}\")\n",
    "        fold+=1\n",
    "        roc=roc_auc_score(y_val,final_preds)\n",
    "        total_roc.append(roc)\n",
    "        print(roc)\n",
    "        print(\"-----------------------------------------\")\n",
    "    print(f\"Average Roc---{sum(total_roc)/len(total_roc)}\")"
   ]
  },
  {
   "cell_type": "code",
   "execution_count": 12,
   "id": "1baa56c1",
   "metadata": {
    "execution": {
     "iopub.execute_input": "2022-06-10T12:27:44.611895Z",
     "iopub.status.busy": "2022-06-10T12:27:44.611187Z",
     "iopub.status.idle": "2022-06-10T12:30:07.946316Z",
     "shell.execute_reply": "2022-06-10T12:30:07.944988Z"
    },
    "papermill": {
     "duration": 143.344051,
     "end_time": "2022-06-10T12:30:07.948583",
     "exception": false,
     "start_time": "2022-06-10T12:27:44.604532",
     "status": "completed"
    },
    "tags": []
   },
   "outputs": [
    {
     "name": "stdout",
     "output_type": "stream",
     "text": [
      "Fold--0\n",
      "0.8394615802766396\n",
      "-----------------------------------------\n",
      "Fold--1\n",
      "0.9142726499365803\n",
      "-----------------------------------------\n",
      "Fold--2\n",
      "0.9169213085793476\n",
      "-----------------------------------------\n",
      "Fold--3\n",
      "0.913101454741554\n",
      "-----------------------------------------\n",
      "Fold--4\n",
      "0.91723259762309\n",
      "-----------------------------------------\n",
      "Average Roc---0.9001979182314421\n"
     ]
    }
   ],
   "source": [
    "\n",
    "\n",
    "#XGBmodel\n",
    "# model1= xgb.XGBClassifier(n_estimators=100, max_depth=6, learning_rate=0.1)\n",
    "# # LightGBM\n",
    "# model2 = lgb.LGBMClassifier(n_estimators=100,learning_rate=0.1,objective='binary',boosting_type='gbdt',max_depth=6,metric='binary_logloss')\n",
    "#RandomForest\n",
    "model3=RandomForestClassifier(n_estimators=250)\n",
    "\n",
    "# training starts\n",
    "train(model3,5)"
   ]
  },
  {
   "cell_type": "markdown",
   "id": "0c96f310",
   "metadata": {
    "papermill": {
     "duration": 0.005205,
     "end_time": "2022-06-10T12:30:07.959435",
     "exception": false,
     "start_time": "2022-06-10T12:30:07.954230",
     "status": "completed"
    },
    "tags": []
   },
   "source": [
    "# Submission"
   ]
  },
  {
   "cell_type": "code",
   "execution_count": 13,
   "id": "c89c3b51",
   "metadata": {
    "execution": {
     "iopub.execute_input": "2022-06-10T12:30:07.972746Z",
     "iopub.status.busy": "2022-06-10T12:30:07.971744Z",
     "iopub.status.idle": "2022-06-10T12:30:16.759922Z",
     "shell.execute_reply": "2022-06-10T12:30:16.758787Z"
    },
    "papermill": {
     "duration": 8.797162,
     "end_time": "2022-06-10T12:30:16.762092",
     "exception": false,
     "start_time": "2022-06-10T12:30:07.964930",
     "status": "completed"
    },
    "tags": []
   },
   "outputs": [
    {
     "data": {
      "text/html": [
       "<div>\n",
       "<style scoped>\n",
       "    .dataframe tbody tr th:only-of-type {\n",
       "        vertical-align: middle;\n",
       "    }\n",
       "\n",
       "    .dataframe tbody tr th {\n",
       "        vertical-align: top;\n",
       "    }\n",
       "\n",
       "    .dataframe thead th {\n",
       "        text-align: right;\n",
       "    }\n",
       "</style>\n",
       "<table border=\"1\" class=\"dataframe\">\n",
       "  <thead>\n",
       "    <tr style=\"text-align: right;\">\n",
       "      <th></th>\n",
       "      <th>id</th>\n",
       "      <th>label</th>\n",
       "    </tr>\n",
       "  </thead>\n",
       "  <tbody>\n",
       "    <tr>\n",
       "      <th>0</th>\n",
       "      <td>b'gAAAAABinOi328DZcweGB4_nOyHA3Dy6o1YKYKyf3COx...</td>\n",
       "      <td>1</td>\n",
       "    </tr>\n",
       "    <tr>\n",
       "      <th>1</th>\n",
       "      <td>b'gAAAAABinOikutEIBjkUXl9lYTg4RI6jc4NfiMUCcVsn...</td>\n",
       "      <td>1</td>\n",
       "    </tr>\n",
       "    <tr>\n",
       "      <th>2</th>\n",
       "      <td>b'gAAAAABinOjBM70jBXOroAlUSq5lNXMd_oP0PU7jLQE5...</td>\n",
       "      <td>1</td>\n",
       "    </tr>\n",
       "    <tr>\n",
       "      <th>3</th>\n",
       "      <td>b'gAAAAABinOimitAnqlgOcqnD_LeNL3WEbXNGvjd3QVPi...</td>\n",
       "      <td>0</td>\n",
       "    </tr>\n",
       "    <tr>\n",
       "      <th>4</th>\n",
       "      <td>b'gAAAAABinOi3W9p3Oka5MV_dc2TeorZUcIWOnnODSx7E...</td>\n",
       "      <td>0</td>\n",
       "    </tr>\n",
       "  </tbody>\n",
       "</table>\n",
       "</div>"
      ],
      "text/plain": [
       "                                                  id  label\n",
       "0  b'gAAAAABinOi328DZcweGB4_nOyHA3Dy6o1YKYKyf3COx...      1\n",
       "1  b'gAAAAABinOikutEIBjkUXl9lYTg4RI6jc4NfiMUCcVsn...      1\n",
       "2  b'gAAAAABinOjBM70jBXOroAlUSq5lNXMd_oP0PU7jLQE5...      1\n",
       "3  b'gAAAAABinOimitAnqlgOcqnD_LeNL3WEbXNGvjd3QVPi...      0\n",
       "4  b'gAAAAABinOi3W9p3Oka5MV_dc2TeorZUcIWOnnODSx7E...      0"
      ]
     },
     "execution_count": 13,
     "metadata": {},
     "output_type": "execute_result"
    }
   ],
   "source": [
    "submission=pd.read_csv(\"../input/robi-datathon-2-pre-assessment/test.csv\")\n",
    "test=pd.read_csv(\"../input/robi-datathon-2-pre-assessment/test.csv\")\n",
    "\n",
    "X=preprocess(test,1)\n",
    "X.shape\n",
    "final_preds=model3.predict(X)\n",
    "submission=submission[['id']]\n",
    "\n",
    "\n",
    "submission['label']=final_preds\n",
    "\n",
    "submission.to_csv('Code_Nullhypothesis_ 1m58vg.csv',index=False)\n",
    "submission.head()"
   ]
  }
 ],
 "metadata": {
  "kernelspec": {
   "display_name": "Python 3",
   "language": "python",
   "name": "python3"
  },
  "language_info": {
   "codemirror_mode": {
    "name": "ipython",
    "version": 3
   },
   "file_extension": ".py",
   "mimetype": "text/x-python",
   "name": "python",
   "nbconvert_exporter": "python",
   "pygments_lexer": "ipython3",
   "version": "3.7.12"
  },
  "papermill": {
   "default_parameters": {},
   "duration": 177.538509,
   "end_time": "2022-06-10T12:30:18.195097",
   "environment_variables": {},
   "exception": null,
   "input_path": "__notebook__.ipynb",
   "output_path": "__notebook__.ipynb",
   "parameters": {},
   "start_time": "2022-06-10T12:27:20.656588",
   "version": "2.3.4"
  }
 },
 "nbformat": 4,
 "nbformat_minor": 5
}
