{
 "cells": [
  {
   "cell_type": "code",
   "execution_count": 1,
   "id": "276a0066",
   "metadata": {
    "_cell_guid": "b1076dfc-b9ad-4769-8c92-a6c4dae69d19",
    "_uuid": "8f2839f25d086af736a60e9eeb907d3b93b6e0e5",
    "execution": {
     "iopub.execute_input": "2022-06-11T03:40:59.824577Z",
     "iopub.status.busy": "2022-06-11T03:40:59.824055Z",
     "iopub.status.idle": "2022-06-11T03:41:04.035891Z",
     "shell.execute_reply": "2022-06-11T03:41:04.035001Z"
    },
    "papermill": {
     "duration": 4.223815,
     "end_time": "2022-06-11T03:41:04.038047",
     "exception": false,
     "start_time": "2022-06-11T03:40:59.814232",
     "status": "completed"
    },
    "tags": []
   },
   "outputs": [
    {
     "data": {
      "text/html": [
       "<style type='text/css'>\n",
       ".datatable table.frame { margin-bottom: 0; }\n",
       ".datatable table.frame thead { border-bottom: none; }\n",
       ".datatable table.frame tr.coltypes td {  color: #FFFFFF;  line-height: 6px;  padding: 0 0.5em;}\n",
       ".datatable .bool    { background: #DDDD99; }\n",
       ".datatable .object  { background: #565656; }\n",
       ".datatable .int     { background: #5D9E5D; }\n",
       ".datatable .float   { background: #4040CC; }\n",
       ".datatable .str     { background: #CC4040; }\n",
       ".datatable .time    { background: #40CC40; }\n",
       ".datatable .row_index {  background: var(--jp-border-color3);  border-right: 1px solid var(--jp-border-color0);  color: var(--jp-ui-font-color3);  font-size: 9px;}\n",
       ".datatable .frame tbody td { text-align: left; }\n",
       ".datatable .frame tr.coltypes .row_index {  background: var(--jp-border-color0);}\n",
       ".datatable th:nth-child(2) { padding-left: 12px; }\n",
       ".datatable .hellipsis {  color: var(--jp-cell-editor-border-color);}\n",
       ".datatable .vellipsis {  background: var(--jp-layout-color0);  color: var(--jp-cell-editor-border-color);}\n",
       ".datatable .na {  color: var(--jp-cell-editor-border-color);  font-size: 80%;}\n",
       ".datatable .sp {  opacity: 0.25;}\n",
       ".datatable .footer { font-size: 9px; }\n",
       ".datatable .frame_dimensions {  background: var(--jp-border-color3);  border-top: 1px solid var(--jp-border-color0);  color: var(--jp-ui-font-color3);  display: inline-block;  opacity: 0.6;  padding: 1px 10px 1px 5px;}\n",
       "</style>\n"
      ],
      "text/plain": [
       "<IPython.core.display.HTML object>"
      ]
     },
     "metadata": {},
     "output_type": "display_data"
    },
    {
     "name": "stdout",
     "output_type": "stream",
     "text": [
      "/kaggle/input/robi-datathon-2-pre-assessment/sample_submission.csv\n",
      "/kaggle/input/robi-datathon-2-pre-assessment/train.csv\n",
      "/kaggle/input/robi-datathon-2-pre-assessment/test.csv\n"
     ]
    }
   ],
   "source": [
    "# This Python 3 environment comes with many helpful analytics libraries installed\n",
    "# It is defined by the kaggle/python Docker image: https://github.com/kaggle/docker-python\n",
    "# For example, here's several helpful packages to load\n",
    "#pip install pytorch-tabnet\n",
    "import numpy as np # linear algebra\n",
    "import pandas as pd # data processing, CSV file I/O (e.g. pd.read_csv)\n",
    "#from pytorch_tabnet.tab_model import TabNetClassifier\n",
    "# Input data files are available in the read-only \"../input/\" directory\n",
    "# For example, running this (by clicking run or pressing Shift+Enter) will list all files under the input directory\n",
    "import xgboost as xgb\n",
    "import lightgbm as lgb\n",
    "from catboost import CatBoostClassifier\n",
    "from sklearn.model_selection import StratifiedKFold\n",
    "from sklearn.metrics import roc_auc_score\n",
    "from sklearn.preprocessing import LabelEncoder\n",
    "import os\n",
    "from sklearn.ensemble import RandomForestClassifier\n",
    "from sklearn.linear_model import LogisticRegression\n",
    "import torch\n",
    "from sklearn.feature_selection import mutual_info_classif\n",
    "import matplotlib.pyplot as plt\n",
    "%matplotlib inline\n",
    "from sklearn.metrics import roc_curve\n",
    "from imblearn.over_sampling import SMOTE\n",
    "for dirname, _, filenames in os.walk('/kaggle/input'):\n",
    "    for filename in filenames:\n",
    "        print(os.path.join(dirname, filename))\n",
    "import warnings\n",
    "warnings.filterwarnings(\"ignore\")\n",
    "# You can write up to 20GB to the current directory (/kaggle/working/) that gets preserved as output when you create a version using \"Save & Run All\" \n",
    "# You can also write temporary files to /kaggle/temp/, but they won't be saved outside of the current session"
   ]
  },
  {
   "cell_type": "code",
   "execution_count": 2,
   "id": "317db7fa",
   "metadata": {
    "execution": {
     "iopub.execute_input": "2022-06-11T03:41:04.049635Z",
     "iopub.status.busy": "2022-06-11T03:41:04.049006Z",
     "iopub.status.idle": "2022-06-11T03:41:04.309659Z",
     "shell.execute_reply": "2022-06-11T03:41:04.308783Z"
    },
    "papermill": {
     "duration": 0.268765,
     "end_time": "2022-06-11T03:41:04.311994",
     "exception": false,
     "start_time": "2022-06-11T03:41:04.043229",
     "status": "completed"
    },
    "tags": []
   },
   "outputs": [],
   "source": [
    "train=pd.read_csv(\"../input/robi-datathon-2-pre-assessment/train.csv\")\n",
    "columns=train.drop(['id','label'], axis=1).columns"
   ]
  },
  {
   "cell_type": "code",
   "execution_count": 3,
   "id": "a1ba9bd8",
   "metadata": {
    "execution": {
     "iopub.execute_input": "2022-06-11T03:41:04.321867Z",
     "iopub.status.busy": "2022-06-11T03:41:04.321504Z",
     "iopub.status.idle": "2022-06-11T03:41:04.325562Z",
     "shell.execute_reply": "2022-06-11T03:41:04.324714Z"
    },
    "papermill": {
     "duration": 0.011237,
     "end_time": "2022-06-11T03:41:04.327520",
     "exception": false,
     "start_time": "2022-06-11T03:41:04.316283",
     "status": "completed"
    },
    "tags": []
   },
   "outputs": [],
   "source": [
    "\n",
    "# cat_col=[col for col in train.columns if train[col].dtype=='object']\n",
    "# num_col=[col for col in train.columns if train[col].dtype!='object']\n",
    "    \n",
    "# le = LabelEncoder()\n",
    "# train=train.fillna(0)\n",
    "# for col in cat_col:\n",
    "#     train[col] = le.fit_transform(train[col].astype(str))\n",
    "# # Resample the minority class. You can change the strategy to 'auto' if you are not sure.\n",
    "# sm = SMOTE(sampling_strategy='minority', random_state=7)\n",
    "\n",
    "# # Fit the model to generate the data.\n",
    "# oversampled_trainX, oversampled_trainY = sm.fit_resample(train.drop(['id','label'], axis=1), train['label'])\n",
    "# oversampled_train = pd.concat([pd.DataFrame(oversampled_trainX),pd.DataFrame(oversampled_trainY) ], axis=1)\n",
    "# oversampled_train.columns = columns"
   ]
  },
  {
   "cell_type": "code",
   "execution_count": 4,
   "id": "74b2c5bf",
   "metadata": {
    "execution": {
     "iopub.execute_input": "2022-06-11T03:41:04.339752Z",
     "iopub.status.busy": "2022-06-11T03:41:04.338709Z",
     "iopub.status.idle": "2022-06-11T03:41:04.347500Z",
     "shell.execute_reply": "2022-06-11T03:41:04.346783Z"
    },
    "papermill": {
     "duration": 0.01644,
     "end_time": "2022-06-11T03:41:04.349640",
     "exception": false,
     "start_time": "2022-06-11T03:41:04.333200",
     "status": "completed"
    },
    "tags": []
   },
   "outputs": [],
   "source": [
    "cat_col=[col for col in train.columns if train[col].dtype=='object']\n",
    "num_col=[col for col in train.columns if train[col].dtype!='object']\n",
    "    "
   ]
  },
  {
   "cell_type": "markdown",
   "id": "68002640",
   "metadata": {
    "papermill": {
     "duration": 0.003869,
     "end_time": "2022-06-11T03:41:04.357912",
     "exception": false,
     "start_time": "2022-06-11T03:41:04.354043",
     "status": "completed"
    },
    "tags": []
   },
   "source": [
    "# Preprocess Function"
   ]
  },
  {
   "cell_type": "markdown",
   "id": "4a0834db",
   "metadata": {
    "papermill": {
     "duration": 0.003882,
     "end_time": "2022-06-11T03:41:04.365854",
     "exception": false,
     "start_time": "2022-06-11T03:41:04.361972",
     "status": "completed"
    },
    "tags": []
   },
   "source": [
    "**Encoding categorical variables Some features have null values only so they have been removed**"
   ]
  },
  {
   "cell_type": "code",
   "execution_count": 5,
   "id": "adc56777",
   "metadata": {
    "execution": {
     "iopub.execute_input": "2022-06-11T03:41:04.375671Z",
     "iopub.status.busy": "2022-06-11T03:41:04.375265Z",
     "iopub.status.idle": "2022-06-11T03:41:04.383422Z",
     "shell.execute_reply": "2022-06-11T03:41:04.382766Z"
    },
    "papermill": {
     "duration": 0.015327,
     "end_time": "2022-06-11T03:41:04.385261",
     "exception": false,
     "start_time": "2022-06-11T03:41:04.369934",
     "status": "completed"
    },
    "tags": []
   },
   "outputs": [],
   "source": [
    "def preprocess(train,istest):\n",
    "    cat_col=[col for col in train.columns if train[col].dtype=='object']\n",
    "    num_col=[col for col in train.columns if train[col].dtype!='object']\n",
    "    \n",
    "    le = LabelEncoder()\n",
    "    train=train.fillna(0)\n",
    "    for col in cat_col:\n",
    "        train[col] = le.fit_transform(train[col].astype(str))\n",
    "#     for c in cat_col:\n",
    "#         train[c] = train[c].astype('category')\n",
    "    if istest==0:\n",
    "        #X=train.drop(['id','label','s54','s55','s56','s57','s59','s58','s53','s12','n11','n12','n13','n14','n15'],axis=1)\n",
    "        #X=train[['gender','s52','s16','n6','n5','s70','s71','s69','s18','s48','s17','s11']]\n",
    "        X=train.drop(['id','s54','s55','s56','s57','s59','label','n3','n11','n12','n13','n14','n15','s58','s53','s12'],axis=1)\n",
    "        #X=train.drop(['id','label'],axis=1)\n",
    "        #X=train[['s69','s52','s16']]\n",
    "        #X = pd.get_dummies(train.drop(['id','label'],axis=1), prefix_sep='_', drop_first=True).fillna(0)\n",
    "        \n",
    "        Y=train['label']\n",
    "       \n",
    "        return X,Y\n",
    "    else:\n",
    "#         X=train.drop(['id','s54','s55','s56','s57','s59'],axis=1)\n",
    "#         X=train[['s69','s52','s16']]\n",
    "        X=train.drop(['id','s54','s55','s56','s57','s59','n3','n11','n12','n13','n14','n15','s58','s53','s12'],axis=1)\n",
    "#         X=train.drop(['id'],axis=1)\n",
    "       \n",
    "        return X\n",
    "        \n",
    "    "
   ]
  },
  {
   "cell_type": "code",
   "execution_count": 6,
   "id": "4015ee39",
   "metadata": {
    "execution": {
     "iopub.execute_input": "2022-06-11T03:41:04.395798Z",
     "iopub.status.busy": "2022-06-11T03:41:04.394911Z",
     "iopub.status.idle": "2022-06-11T03:41:04.604383Z",
     "shell.execute_reply": "2022-06-11T03:41:04.603526Z"
    },
    "papermill": {
     "duration": 0.216977,
     "end_time": "2022-06-11T03:41:04.606559",
     "exception": false,
     "start_time": "2022-06-11T03:41:04.389582",
     "status": "completed"
    },
    "tags": []
   },
   "outputs": [],
   "source": [
    "X,Y=preprocess(train,0)"
   ]
  },
  {
   "cell_type": "markdown",
   "id": "f6f12a40",
   "metadata": {
    "papermill": {
     "duration": 0.003957,
     "end_time": "2022-06-11T03:41:04.614889",
     "exception": false,
     "start_time": "2022-06-11T03:41:04.610932",
     "status": "completed"
    },
    "tags": []
   },
   "source": [
    "# Feature analysis for feature selection"
   ]
  },
  {
   "cell_type": "code",
   "execution_count": 7,
   "id": "ecebcf7e",
   "metadata": {
    "execution": {
     "iopub.execute_input": "2022-06-11T03:41:04.625152Z",
     "iopub.status.busy": "2022-06-11T03:41:04.624535Z",
     "iopub.status.idle": "2022-06-11T03:41:07.512154Z",
     "shell.execute_reply": "2022-06-11T03:41:07.511303Z"
    },
    "papermill": {
     "duration": 2.895091,
     "end_time": "2022-06-11T03:41:07.514144",
     "exception": false,
     "start_time": "2022-06-11T03:41:04.619053",
     "status": "completed"
    },
    "tags": []
   },
   "outputs": [
    {
     "data": {
      "image/png": "[encoded data removed]",
      "text/plain": [
       "<Figure size 720x720 with 1 Axes>"
      ]
     },
     "metadata": {
      "needs_background": "light"
     },
     "output_type": "display_data"
    }
   ],
   "source": [
    "## Feature importance is analysed here\n",
    "plt.figure(figsize=(10,10))\n",
    "importances=mutual_info_classif(X,Y)\n",
    "feat_imp=pd.Series(importances,X.columns)\n",
    "feat_imp.plot(kind='barh',color='teal')\n",
    "plt.show()\n"
   ]
  },
  {
   "cell_type": "code",
   "execution_count": 8,
   "id": "3cbd7c1b",
   "metadata": {
    "_kg_hide-input": false,
    "execution": {
     "iopub.execute_input": "2022-06-11T03:41:07.525049Z",
     "iopub.status.busy": "2022-06-11T03:41:07.524461Z",
     "iopub.status.idle": "2022-06-11T03:41:07.528859Z",
     "shell.execute_reply": "2022-06-11T03:41:07.528125Z"
    },
    "papermill": {
     "duration": 0.011936,
     "end_time": "2022-06-11T03:41:07.530760",
     "exception": false,
     "start_time": "2022-06-11T03:41:07.518824",
     "status": "completed"
    },
    "tags": []
   },
   "outputs": [],
   "source": [
    "# def train(model1,model2,model3,model4,cv_splits):\n",
    "#     fold=0\n",
    "#     total_roc=[]\n",
    "#     skf = StratifiedKFold(n_splits=cv_splits)\n",
    "#     for train_index, test_index in skf.split(X, Y):\n",
    "#         x_train, x_val = X.iloc[train_index], X.iloc[test_index]\n",
    "#         y_train, y_val = Y.iloc[train_index], Y.iloc[test_index]\n",
    "        \n",
    "#         thr=0.5\n",
    "#         model1.fit(x_train,y_train)\n",
    "#         preds1=model1.predict_proba(x_val)\n",
    "#         final_preds1=[1 if i[1]>thr else 0 for i in preds1]\n",
    "# #         model2.fit(x_train,y_train)\n",
    "# #         preds2=model2.predict_proba(x_val)\n",
    "# #         final_preds2=[1 if i[1]> thr else 0 for i in preds2]\n",
    "# #         model3.fit(x_train,y_train)\n",
    "# #         preds3=model3.predict_proba(x_val)\n",
    "# #         final_preds3=[1 if i[1]>thr else 0 for i in preds3]\n",
    "# #         model4.fit(x_train,y_train)\n",
    "# #         preds4=model4.predict_proba(x_val)\n",
    "# #         final_preds4=[1 if i[1]>thr else 0 for i in preds4]\n",
    "                \n",
    "\n",
    "#         ######################################\n",
    "#         ######################################\n",
    "       \n",
    "#         final_preds=np.array(final_preds1)\n",
    "# #         +np.array(final_preds2)+np.array(final_preds3)+np.array(final_preds4)\n",
    "# #         print(len(final_preds1),len(final_preds))\n",
    "# #         final_preds=[1 if i >1 else 0 for i in final_preds]\n",
    "# #         print(final_preds)\n",
    "       \n",
    "# #        preds=model.predict_proba(x_val)\n",
    "# #        final_preds2=[1 if i[1]>0.15 else 0 for i in preds]\n",
    "#        # final_preds=np.argmax(final_preds,axis=1)\n",
    "      \n",
    "#         print(f\"Fold--{fold}\")\n",
    "#         fold+=1\n",
    "#         roc=roc_auc_score(y_val,final_preds)\n",
    "#         total_roc.append(roc)\n",
    "#         print(roc)\n",
    "#         print(\"-----------------------------------------\")\n",
    "#     print(f\"Average Roc---{sum(total_roc)/len(total_roc)}\")"
   ]
  },
  {
   "cell_type": "markdown",
   "id": "4abdb581",
   "metadata": {
    "papermill": {
     "duration": 0.004341,
     "end_time": "2022-06-11T03:41:07.539651",
     "exception": false,
     "start_time": "2022-06-11T03:41:07.535310",
     "status": "completed"
    },
    "tags": []
   },
   "source": [
    "# Train Function"
   ]
  },
  {
   "cell_type": "code",
   "execution_count": 9,
   "id": "dad4175a",
   "metadata": {
    "execution": {
     "iopub.execute_input": "2022-06-11T03:41:07.550412Z",
     "iopub.status.busy": "2022-06-11T03:41:07.549804Z",
     "iopub.status.idle": "2022-06-11T03:41:07.560665Z",
     "shell.execute_reply": "2022-06-11T03:41:07.559898Z"
    },
    "papermill": {
     "duration": 0.018476,
     "end_time": "2022-06-11T03:41:07.562596",
     "exception": false,
     "start_time": "2022-06-11T03:41:07.544120",
     "status": "completed"
    },
    "tags": []
   },
   "outputs": [],
   "source": [
    "# 5 fold cross-validation training and roc printed on validation data\n",
    "def train(model,cv_splits):\n",
    "    fold=0\n",
    "    total_roc=[]\n",
    "    skf = StratifiedKFold(n_splits=cv_splits)\n",
    "    for train_index, test_index in skf.split(X, Y):\n",
    "        x_train, x_val = X.iloc[train_index], X.iloc[test_index]\n",
    "        y_train, y_val = Y.iloc[train_index], Y.iloc[test_index]\n",
    "        \n",
    "        model.fit(x_train,y_train)\n",
    "        preds=model.predict_proba(x_val)\n",
    "        yhat = model.predict_proba(x_val)\n",
    "        # keep probabilities for the positive outcome only\n",
    "        yhat = yhat[:, 1]\n",
    "        # calculate roc curves\n",
    "        fpr, tpr, thresholds = roc_curve(y_val, yhat)\n",
    "        # get the best threshold\n",
    "        J = tpr - fpr\n",
    "        ix = np.argmax(J)\n",
    "        best_thresh = thresholds[ix]\n",
    "        print(f\"Best Threshold->>>>> {best_thresh}\")\n",
    "        \n",
    "        final_preds=[1 if i[1]>0.5 else 0 for i in preds]\n",
    "\n",
    "        ######################################\n",
    "        ######################################\n",
    "       \n",
    "        final_preds=np.array(final_preds)\n",
    "        print(f\"Fold--{fold}\")\n",
    "        fold+=1\n",
    "        acc=(y_val==final_preds).sum()\n",
    "        acc=acc/len(final_preds)\n",
    "        print(f\"Acc---{acc}\")\n",
    "        roc=roc_auc_score(y_val,final_preds)\n",
    "        total_roc.append(roc)\n",
    "        print(roc)\n",
    "        print(\"-----------------------------------------\")\n",
    "    print(f\"Average Roc---{sum(total_roc)/len(total_roc)}\")"
   ]
  },
  {
   "cell_type": "markdown",
   "id": "f0a72c7a",
   "metadata": {
    "papermill": {
     "duration": 0.004195,
     "end_time": "2022-06-11T03:41:07.571295",
     "exception": false,
     "start_time": "2022-06-11T03:41:07.567100",
     "status": "completed"
    },
    "tags": []
   },
   "source": [
    "# Model"
   ]
  },
  {
   "cell_type": "code",
   "execution_count": 10,
   "id": "65e27775",
   "metadata": {
    "execution": {
     "iopub.execute_input": "2022-06-11T03:41:07.582152Z",
     "iopub.status.busy": "2022-06-11T03:41:07.581531Z",
     "iopub.status.idle": "2022-06-11T03:41:08.950714Z",
     "shell.execute_reply": "2022-06-11T03:41:08.949731Z"
    },
    "papermill": {
     "duration": 1.377502,
     "end_time": "2022-06-11T03:41:08.953324",
     "exception": false,
     "start_time": "2022-06-11T03:41:07.575822",
     "status": "completed"
    },
    "tags": []
   },
   "outputs": [
    {
     "name": "stdout",
     "output_type": "stream",
     "text": [
      "Best Threshold->>>>> 0.14839700582003998\n",
      "Fold--0\n",
      "Acc---0.8720211827007943\n",
      "0.7059806417793087\n",
      "-----------------------------------------\n",
      "Best Threshold->>>>> 0.14029255920672679\n",
      "Fold--1\n",
      "Acc---0.8824360105913504\n",
      "0.7264900231257366\n",
      "-----------------------------------------\n",
      "Best Threshold->>>>> 0.23042232064301044\n",
      "Fold--2\n",
      "Acc---0.8790607344632768\n",
      "0.7211170121698933\n",
      "-----------------------------------------\n",
      "Best Threshold->>>>> 0.16475840786808063\n",
      "Fold--3\n",
      "Acc---0.8848870056497176\n",
      "0.7376107488835942\n",
      "-----------------------------------------\n",
      "Best Threshold->>>>> 0.10500534017028071\n",
      "Fold--4\n",
      "Acc---0.8751765536723164\n",
      "0.712915174558788\n",
      "-----------------------------------------\n",
      "Average Roc---0.7208227201034643\n"
     ]
    }
   ],
   "source": [
    "\n",
    "\n",
    "#XGBmodel\n",
    "model1= xgb.XGBClassifier(n_estimators=20, max_depth=6, learning_rate=0.1)\n",
    "# # LightGBM\n",
    "model2 = lgb.LGBMClassifier(n_estimators=80,learning_rate=0.1,objective='binary',boosting_type='gbdt',max_depth=6,metric='binary_logloss')\n",
    "#RandomForest\n",
    "model3=RandomForestClassifier(n_estimators=100)\n",
    "\n",
    "# training starts\n",
    "train(model2,5)"
   ]
  },
  {
   "cell_type": "code",
   "execution_count": 11,
   "id": "1cdb6ed4",
   "metadata": {
    "execution": {
     "iopub.execute_input": "2022-06-11T03:41:08.966405Z",
     "iopub.status.busy": "2022-06-11T03:41:08.965630Z",
     "iopub.status.idle": "2022-06-11T03:41:09.222335Z",
     "shell.execute_reply": "2022-06-11T03:41:09.221245Z"
    },
    "papermill": {
     "duration": 0.265016,
     "end_time": "2022-06-11T03:41:09.224357",
     "exception": false,
     "start_time": "2022-06-11T03:41:08.959341",
     "status": "completed"
    },
    "tags": []
   },
   "outputs": [
    {
     "data": {
      "text/plain": [
       "LGBMClassifier(max_depth=6, metric='binary_logloss', n_estimators=80,\n",
       "               objective='binary')"
      ]
     },
     "execution_count": 11,
     "metadata": {},
     "output_type": "execute_result"
    }
   ],
   "source": [
    "model2 = lgb.LGBMClassifier(n_estimators=80,learning_rate=0.1,objective='binary',boosting_type='gbdt',max_depth=6,metric='binary_logloss')\n",
    "model2.fit(X,Y)\n"
   ]
  },
  {
   "cell_type": "markdown",
   "id": "38fc6853",
   "metadata": {
    "papermill": {
     "duration": 0.004723,
     "end_time": "2022-06-11T03:41:09.234134",
     "exception": false,
     "start_time": "2022-06-11T03:41:09.229411",
     "status": "completed"
    },
    "tags": []
   },
   "source": [
    "# Submission"
   ]
  },
  {
   "cell_type": "code",
   "execution_count": 12,
   "id": "8046dee7",
   "metadata": {
    "execution": {
     "iopub.execute_input": "2022-06-11T03:41:09.246043Z",
     "iopub.status.busy": "2022-06-11T03:41:09.245301Z",
     "iopub.status.idle": "2022-06-11T03:41:11.433277Z",
     "shell.execute_reply": "2022-06-11T03:41:11.432126Z"
    },
    "papermill": {
     "duration": 2.195992,
     "end_time": "2022-06-11T03:41:11.435266",
     "exception": false,
     "start_time": "2022-06-11T03:41:09.239274",
     "status": "completed"
    },
    "tags": []
   },
   "outputs": [
    {
     "data": {
      "text/html": [
       "<div>\n",
       "<style scoped>\n",
       "    .dataframe tbody tr th:only-of-type {\n",
       "        vertical-align: middle;\n",
       "    }\n",
       "\n",
       "    .dataframe tbody tr th {\n",
       "        vertical-align: top;\n",
       "    }\n",
       "\n",
       "    .dataframe thead th {\n",
       "        text-align: right;\n",
       "    }\n",
       "</style>\n",
       "<table border=\"1\" class=\"dataframe\">\n",
       "  <thead>\n",
       "    <tr style=\"text-align: right;\">\n",
       "      <th></th>\n",
       "      <th>id</th>\n",
       "      <th>label</th>\n",
       "    </tr>\n",
       "  </thead>\n",
       "  <tbody>\n",
       "    <tr>\n",
       "      <th>0</th>\n",
       "      <td>b'gAAAAABinOi328DZcweGB4_nOyHA3Dy6o1YKYKyf3COx...</td>\n",
       "      <td>1</td>\n",
       "    </tr>\n",
       "    <tr>\n",
       "      <th>1</th>\n",
       "      <td>b'gAAAAABinOikutEIBjkUXl9lYTg4RI6jc4NfiMUCcVsn...</td>\n",
       "      <td>1</td>\n",
       "    </tr>\n",
       "    <tr>\n",
       "      <th>2</th>\n",
       "      <td>b'gAAAAABinOjBM70jBXOroAlUSq5lNXMd_oP0PU7jLQE5...</td>\n",
       "      <td>1</td>\n",
       "    </tr>\n",
       "    <tr>\n",
       "      <th>3</th>\n",
       "      <td>b'gAAAAABinOimitAnqlgOcqnD_LeNL3WEbXNGvjd3QVPi...</td>\n",
       "      <td>0</td>\n",
       "    </tr>\n",
       "    <tr>\n",
       "      <th>4</th>\n",
       "      <td>b'gAAAAABinOi3W9p3Oka5MV_dc2TeorZUcIWOnnODSx7E...</td>\n",
       "      <td>0</td>\n",
       "    </tr>\n",
       "  </tbody>\n",
       "</table>\n",
       "</div>"
      ],
      "text/plain": [
       "                                                  id  label\n",
       "0  b'gAAAAABinOi328DZcweGB4_nOyHA3Dy6o1YKYKyf3COx...      1\n",
       "1  b'gAAAAABinOikutEIBjkUXl9lYTg4RI6jc4NfiMUCcVsn...      1\n",
       "2  b'gAAAAABinOjBM70jBXOroAlUSq5lNXMd_oP0PU7jLQE5...      1\n",
       "3  b'gAAAAABinOimitAnqlgOcqnD_LeNL3WEbXNGvjd3QVPi...      0\n",
       "4  b'gAAAAABinOi3W9p3Oka5MV_dc2TeorZUcIWOnnODSx7E...      0"
      ]
     },
     "execution_count": 12,
     "metadata": {},
     "output_type": "execute_result"
    }
   ],
   "source": [
    "submission=pd.read_csv(\"../input/robi-datathon-2-pre-assessment/test.csv\")\n",
    "test=pd.read_csv(\"../input/robi-datathon-2-pre-assessment/test.csv\")\n",
    "\n",
    "X=preprocess(test,1)\n",
    "X.shape\n",
    "preds=model2.predict_proba(X)\n",
    "final_preds=[1 if i[1]>0.5 else 0 for i in preds]\n",
    "submission=submission[['id']]\n",
    "\n",
    "\n",
    "submission['label']=final_preds\n",
    "\n",
    "submission.to_csv('Code_Nullhypothesis_ 1m58vg.csv',index=False)\n",
    "submission.head()"
   ]
  },
  {
   "cell_type": "code",
   "execution_count": 13,
   "id": "e6e26716",
   "metadata": {
    "execution": {
     "iopub.execute_input": "2022-06-11T03:41:11.447175Z",
     "iopub.status.busy": "2022-06-11T03:41:11.446453Z",
     "iopub.status.idle": "2022-06-11T03:41:11.453146Z",
     "shell.execute_reply": "2022-06-11T03:41:11.452288Z"
    },
    "papermill": {
     "duration": 0.014642,
     "end_time": "2022-06-11T03:41:11.455068",
     "exception": false,
     "start_time": "2022-06-11T03:41:11.440426",
     "status": "completed"
    },
    "tags": []
   },
   "outputs": [
    {
     "data": {
      "text/plain": [
       "(85065, 2)"
      ]
     },
     "execution_count": 13,
     "metadata": {},
     "output_type": "execute_result"
    }
   ],
   "source": [
    "submission.shape"
   ]
  }
 ],
 "metadata": {
  "kernelspec": {
   "display_name": "Python 3",
   "language": "python",
   "name": "python3"
  },
  "language_info": {
   "codemirror_mode": {
    "name": "ipython",
    "version": 3
   },
   "file_extension": ".py",
   "mimetype": "text/x-python",
   "name": "python",
   "nbconvert_exporter": "python",
   "pygments_lexer": "ipython3",
   "version": "3.7.12"
  },
  "papermill": {
   "default_parameters": {},
   "duration": 20.992461,
   "end_time": "2022-06-11T03:41:12.383426",
   "environment_variables": {},
   "exception": null,
   "input_path": "__notebook__.ipynb",
   "output_path": "__notebook__.ipynb",
   "parameters": {},
   "start_time": "2022-06-11T03:40:51.390965",
   "version": "2.3.4"
  }
 },
 "nbformat": 4,
 "nbformat_minor": 5
}
